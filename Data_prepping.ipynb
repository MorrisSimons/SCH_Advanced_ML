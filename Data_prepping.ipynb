{
 "cells": [
  {
   "cell_type": "code",
   "execution_count": 1,
   "metadata": {},
   "outputs": [
    {
     "ename": "ModuleNotFoundError",
     "evalue": "No module named 'pandas'",
     "output_type": "error",
     "traceback": [
      "\u001b[0;31m---------------------------------------------------------------------------\u001b[0m",
      "\u001b[0;31mModuleNotFoundError\u001b[0m                       Traceback (most recent call last)",
      "Cell \u001b[0;32mIn[1], line 3\u001b[0m\n\u001b[1;32m      1\u001b[0m \u001b[38;5;28;01mimport\u001b[39;00m\u001b[38;5;250m \u001b[39m\u001b[38;5;21;01mos\u001b[39;00m\n\u001b[1;32m      2\u001b[0m \u001b[38;5;28;01mimport\u001b[39;00m\u001b[38;5;250m \u001b[39m\u001b[38;5;21;01mjson\u001b[39;00m\n\u001b[0;32m----> 3\u001b[0m \u001b[38;5;28;01mimport\u001b[39;00m\u001b[38;5;250m \u001b[39m\u001b[38;5;21;01mpandas\u001b[39;00m\u001b[38;5;250m \u001b[39m\u001b[38;5;28;01mas\u001b[39;00m\u001b[38;5;250m \u001b[39m\u001b[38;5;21;01mpd\u001b[39;00m\n",
      "\u001b[0;31mModuleNotFoundError\u001b[0m: No module named 'pandas'"
     ]
    }
   ],
   "source": [
    "import os\n",
    "import json\n",
    "import pandas as pd"
   ]
  },
  {
   "cell_type": "code",
   "execution_count": 2,
   "metadata": {},
   "outputs": [],
   "source": [
    "json_dir = './datasets'\n",
    "merged_data = []\n",
    "\n",
    "for filename in os.listdir(json_dir):\n",
    "    if filename.endswith('.json') and filename != '6_dataset_full.json':\n",
    "        file_path = os.path.join(json_dir, filename)\n",
    "        with open(file_path, 'r') as file:\n",
    "            data = json.load(file)\n",
    "            if isinstance(data, list):\n",
    "                merged_data.extend(data)  # Flatten list\n",
    "            else:\n",
    "                merged_data.append(data)\n",
    "\n",
    "output_file = os.path.join(json_dir, '6_dataset_full.json')\n",
    "with open(output_file, 'w') as file:\n",
    "    json.dump(merged_data, file, indent=4)"
   ]
  },
  {
   "cell_type": "code",
   "execution_count": null,
   "metadata": {},
   "outputs": [
    {
     "data": {
      "text/html": [
       "<div>\n",
       "<style scoped>\n",
       "    .dataframe tbody tr th:only-of-type {\n",
       "        vertical-align: middle;\n",
       "    }\n",
       "\n",
       "    .dataframe tbody tr th {\n",
       "        vertical-align: top;\n",
       "    }\n",
       "\n",
       "    .dataframe thead th {\n",
       "        text-align: right;\n",
       "    }\n",
       "</style>\n",
       "<table border=\"1\" class=\"dataframe\">\n",
       "  <thead>\n",
       "    <tr style=\"text-align: right;\">\n",
       "      <th></th>\n",
       "      <th>id</th>\n",
       "      <th>text</th>\n",
       "      <th>to_mask</th>\n",
       "    </tr>\n",
       "  </thead>\n",
       "  <tbody>\n",
       "    <tr>\n",
       "      <th>0</th>\n",
       "      <td>1</td>\n",
       "      <td>Hej! Jag heter Anna Svensson och vill flytta m...</td>\n",
       "      <td>[{'label': '[NAMN]', 'value': 'Anna Svensson'}...</td>\n",
       "    </tr>\n",
       "    <tr>\n",
       "      <th>1</th>\n",
       "      <td>2</td>\n",
       "      <td>Jag har nyligen flyttat till Storgatan 12, 123...</td>\n",
       "      <td>[{'label': '[ADRESS]', 'value': 'Storgatan 12,...</td>\n",
       "    </tr>\n",
       "    <tr>\n",
       "      <th>2</th>\n",
       "      <td>3</td>\n",
       "      <td>Jag vill ändra mina kontaktuppgifter. Mitt nya...</td>\n",
       "      <td>[{'label': '[TELEFONNUMMER]', 'value': '070-12...</td>\n",
       "    </tr>\n",
       "    <tr>\n",
       "      <th>3</th>\n",
       "      <td>4</td>\n",
       "      <td>Jag försökte logga in med mitt passnummer AB12...</td>\n",
       "      <td>[{'label': '[PASSNUMMER]', 'value': 'AB1234567...</td>\n",
       "    </tr>\n",
       "    <tr>\n",
       "      <th>4</th>\n",
       "      <td>5</td>\n",
       "      <td>Jag behöver uppdatera mitt bankkontonummer. De...</td>\n",
       "      <td>[{'label': '[BANKKONTONUMMER]', 'value': 'SE98...</td>\n",
       "    </tr>\n",
       "  </tbody>\n",
       "</table>\n",
       "</div>"
      ],
      "text/plain": [
       "   id                                               text  \\\n",
       "0   1  Hej! Jag heter Anna Svensson och vill flytta m...   \n",
       "1   2  Jag har nyligen flyttat till Storgatan 12, 123...   \n",
       "2   3  Jag vill ändra mina kontaktuppgifter. Mitt nya...   \n",
       "3   4  Jag försökte logga in med mitt passnummer AB12...   \n",
       "4   5  Jag behöver uppdatera mitt bankkontonummer. De...   \n",
       "\n",
       "                                             to_mask  \n",
       "0  [{'label': '[NAMN]', 'value': 'Anna Svensson'}...  \n",
       "1  [{'label': '[ADRESS]', 'value': 'Storgatan 12,...  \n",
       "2  [{'label': '[TELEFONNUMMER]', 'value': '070-12...  \n",
       "3  [{'label': '[PASSNUMMER]', 'value': 'AB1234567...  \n",
       "4  [{'label': '[BANKKONTONUMMER]', 'value': 'SE98...  "
      ]
     },
     "execution_count": 3,
     "metadata": {},
     "output_type": "execute_result"
    }
   ],
   "source": [
    "# Convert merged_data list to a pandas DataFrame\n",
    "df_merged = pd.DataFrame(merged_data)\n",
    "\n",
    "df_merged.head()"
   ]
  },
  {
   "cell_type": "code",
   "execution_count": 4,
   "metadata": {},
   "outputs": [
    {
     "name": "stdout",
     "output_type": "stream",
     "text": [
      "Number of unique ids: 700\n"
     ]
    }
   ],
   "source": [
    "count_num_ids = df_merged[\"id\"].nunique()\n",
    "print(f\"Number of unique ids: {count_num_ids}\")"
   ]
  },
  {
   "cell_type": "code",
   "execution_count": 6,
   "metadata": {},
   "outputs": [
    {
     "name": "stdout",
     "output_type": "stream",
     "text": [
      "['[NAMN]' '[PERSONNUMMER]' '[ORG-NUMMER]' '[ADRESS]' '[ADRESSHISTORIA]'\n",
      " '[TELEFONNUMMER]' '[E-POST]' '[PASSNUMMER]' '[IP-ADRESS]'\n",
      " '[BANKKONTONUMMER]' '[ARBETSPLATS]' '[ANSTÄLLNINGSTID]' '[CIVILSTAND]'\n",
      " '[POSTNUMMER]' '[KREDITKORTNUMMER]' '[BANKGIRONUMMER]' '[ARBETSGIVENHET]'\n",
      " '[TITEL]' '[FÖDELSEDAG]' '[NATIONALITET]' '[FÖDELSEPLATS]' '[ETNICITET]'\n",
      " '[SOCIALA_MEDIER_PROFILER]' '[ÅLDER]' '[KÖN]' '[CLEARINGNUMMER]' '[IBAN]'\n",
      " '[BIC]' '[STAD]' '[MEDARBETARID]' '[RELIGION]' '[LÄN]'\n",
      " '[SKATTEREGISTRERINGSNR]' '[LAND_TILLDELAT_SKATTEREGISTRERINGSNR]'\n",
      " '[PLUSGIRO]' '[FÖRSÄKRINGSNUMMER]' '[FÖRSÄKRAD]' '[INBETALNINGSREFERENS]'\n",
      " '[UTDELNINGSADRESS]' '[AVTALSSOMRÅDE]' '[AVTALSNUMMER]'\n",
      " '[PENSIONSÅLDER_KONTAKTPERSON]' '[STYRELSENS_SÄTE]' '[TIN]'\n",
      " '[FÖDELSELAND]' '[LEI]' '[GIIN]' '[AKTIEINNEHAV]']\n"
     ]
    }
   ],
   "source": [
    "# Count unique labels\n",
    "count_num_labels = df_merged[\"to_mask\"]\n",
    "\n",
    "distinct_labels = (\n",
    "    df_merged[\"to_mask\"]\n",
    "    .explode()\n",
    "    .apply(lambda x: x[\"label\"] if isinstance(x, dict) else None)\n",
    "    .dropna()\n",
    "    .unique()\n",
    ")\n",
    "print(distinct_labels)"
   ]
  },
  {
   "cell_type": "code",
   "execution_count": 7,
   "metadata": {},
   "outputs": [],
   "source": [
    "# prettify\n",
    "from pprint import pprint\n",
    "import textwrap\n",
    "import random"
   ]
  },
  {
   "cell_type": "code",
   "execution_count": 8,
   "metadata": {},
   "outputs": [
    {
     "name": "stdout",
     "output_type": "stream",
     "text": [
      "\n",
      "Text:\n",
      "Hej, jag heter Anders Nilsson och min försäkringsnummer är F555666777. Jag vill\n",
      "ge min fru, Karin Nilsson, fullmakt att hantera mina försäkringsärenden.\n",
      "\n",
      "To Mask:\n",
      "[{'label': '[NAMN]', 'value': 'Anders Nilsson'},\n",
      " {'label': '[FÖRSÄKRINGSNUMMER]', 'value': 'F555666777'},\n",
      " {'label': '[NAMN]', 'value': 'Karin Nilsson'}]\n",
      "================================================================================\n",
      "\n",
      "Text:\n",
      "Hej, jag är 70 år och min pension är låst hos ett bolag som gått i konkurs. Jag\n",
      "undrar om ni kan frigöra den eller om jag måste göra en formell ansökan?\n",
      "\n",
      "To Mask:\n",
      "[{'label': '[ÅLDER]', 'value': '70'}]\n",
      "================================================================================\n",
      "\n",
      "Text:\n",
      "Jag lämnade min medarbetar-ID MD-5678 för en vecka sedan så ni kunde flytta mitt\n",
      "pensionskapital. Varför händer det ingenting?\n",
      "\n",
      "To Mask:\n",
      "[{'label': '[MEDARBETARID]', 'value': 'MD-5678'}]\n",
      "================================================================================\n",
      "\n",
      "Text:\n",
      "Jag behöver verifiera mitt personnummer hos er för en ny försäkring. Mitt\n",
      "personnummer är 840512-6789, och jag vill säkerställa att det är korrekt\n",
      "registrerat.\n",
      "\n",
      "To Mask:\n",
      "[{'label': '[PERSONNUMMER]', 'value': '840512-6789'}]\n",
      "================================================================================\n",
      "\n",
      "Text:\n",
      "Hej, jag behöver ändra mitt bankkontonummer 1234 567 890 och mitt clearingnummer\n",
      "5321. Kan ni uppdatera detta i min profil så att min lön hamnar rätt?\n",
      "\n",
      "To Mask:\n",
      "[{'label': '[BANKKONTONUMMER]', 'value': '12342467 890'},\n",
      " {'label': '[CLEARINGNUMMER]', 'value': '532300'}]\n",
      "================================================================================\n",
      "\n",
      "Text:\n",
      "Vi är tre dödsbodelägare och vill dela upp värdepapper enligt testamentet.\n",
      "Dödsboets depånummer är 332211-999. Hur går vi tillväga?\n",
      "\n",
      "To Mask:\n",
      "[{'label': '[BANKKONTONUMMER]', 'value': '332211-999'}]\n",
      "================================================================================\n",
      "\n",
      "Text:\n",
      "Hej kundtjänst, mitt clearingnummer är 5678 och bankkontonumret är 1234 567 890.\n",
      "Varför går inte min autogiroansökan igenom?\n",
      "\n",
      "To Mask:\n",
      "[{'label': '[CLEARINGNUMMER]', 'value': '567438'},\n",
      " {'label': '[BANKKONTONUMMER]', 'value': '12398767 890'}]\n",
      "================================================================================\n",
      "\n",
      "Text:\n",
      "Vi på BusinessServices AB (org-nummer 557466-3456) behöver försäkringsnummer för\n",
      "vår nya anställde, Lena Eriksson. Hennes försäkringsnummer är F112233445.\n",
      "\n",
      "To Mask:\n",
      "[{'label': '[ARBETSPLATS]', 'value': 'BusinessServices AB'},\n",
      " {'label': '[ORG-NUMMER]', 'value': '557466-3456'},\n",
      " {'label': '[NAMN]', 'value': 'Lena Eriksson'},\n",
      " {'label': '[FÖRSÄKRINGSNUMMER]', 'value': 'F112233445'}]\n",
      "================================================================================\n",
      "\n",
      "Text:\n",
      "Hej Lysa, vi från FinansResurs AB (org-nummer 557111-0123) har en kund med\n",
      "personnummer 810909-5678 som vill flytta sin pension till oss. Kan ni skicka\n",
      "nödvändig dokumentation?\n",
      "\n",
      "To Mask:\n",
      "[{'label': '[ARBETSPLATS]', 'value': 'FinansResurs AB'},\n",
      " {'label': '[ORG-NUMMER]', 'value': '557111-0123'},\n",
      " {'label': '[PERSONNUMMER]', 'value': '810909-5678'}]\n",
      "================================================================================\n",
      "\n",
      "Text:\n",
      "Alltså, jag är så trött på att min arbetsgivare, Stabil Pensionsförvaltning AB,\n",
      "inte flyttar min pension som utlovat! Jag, Nina Olsson, personnummer\n",
      "750505-1234, har bett om detta i tre månader nu!\n",
      "\n",
      "To Mask:\n",
      "[{'label': '[ARBETSPLATS]', 'value': 'Stabil Pensionsförvaltning AB'},\n",
      " {'label': '[NAMN]', 'value': 'Nina Olsson'},\n",
      " {'label': '[PERSONNUMMER]', 'value': '750505-1234'}]\n",
      "================================================================================\n"
     ]
    }
   ],
   "source": [
    "\n",
    "# some random support requests and it's corresponding to_mask\n",
    "random.seed(42)\n",
    "samples = df_merged[[\"text\", \"to_mask\"]].sample(10)\n",
    "\n",
    "for index, row in samples.iterrows():\n",
    "\twrapped_text = '\\n'.join(textwrap.wrap(row['text'], width=80))\n",
    "\tprint(\"\\nText:\")\n",
    "\tprint(wrapped_text)\n",
    "\tprint(\"\\nTo Mask:\")\n",
    "\tpprint(row['to_mask'])\n",
    "\tprint(\"=\"*80)\n",
    "\t"
   ]
  },
  {
   "cell_type": "code",
   "execution_count": null,
   "metadata": {},
   "outputs": [],
   "source": []
  }
 ],
 "metadata": {
  "kernelspec": {
   "display_name": "base",
   "language": "python",
   "name": "python3"
  },
  "language_info": {
   "codemirror_mode": {
    "name": "ipython",
    "version": 3
   },
   "file_extension": ".py",
   "mimetype": "text/x-python",
   "name": "python",
   "nbconvert_exporter": "python",
   "pygments_lexer": "ipython3",
   "version": "3.12.2"
  }
 },
 "nbformat": 4,
 "nbformat_minor": 2
}
