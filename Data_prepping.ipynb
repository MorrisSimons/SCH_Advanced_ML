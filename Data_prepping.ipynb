{
 "cells": [
  {
   "cell_type": "code",
   "execution_count": null,
   "metadata": {},
   "outputs": [],
   "source": [
    "import os\n",
    "import json\n",
    "import pandas as pd"
   ]
  },
  {
   "cell_type": "code",
   "execution_count": 27,
   "metadata": {},
   "outputs": [],
   "source": [
    "json_dir = '/home/morrissimons/Desktop/avancerad_ml/datasets'\n",
    "merged_data = []\n",
    "\n",
    "for filename in os.listdir(json_dir):\n",
    "    if filename.endswith('.json') and filename != '6_dataset_full.json':\n",
    "        file_path = os.path.join(json_dir, filename)\n",
    "        with open(file_path, 'r') as file:\n",
    "            data = json.load(file)\n",
    "            if isinstance(data, list):\n",
    "                merged_data.extend(data)  # Flatten list\n",
    "            else:\n",
    "                merged_data.append(data)\n",
    "\n",
    "output_file = os.path.join(json_dir, '6_dataset_full.json')\n",
    "with open(output_file, 'w') as file:\n",
    "    json.dump(merged_data, file, indent=4)"
   ]
  },
  {
   "cell_type": "code",
   "execution_count": 28,
   "metadata": {},
   "outputs": [],
   "source": [
    "# Convert merged_data list to a pandas DataFrame\n",
    "df_merged = pd.DataFrame(merged_data)\n",
    "\n",
    "pd"
   ]
  },
  {
   "cell_type": "code",
   "execution_count": null,
   "metadata": {},
   "outputs": [],
   "source": []
  }
 ],
 "metadata": {
  "kernelspec": {
   "display_name": "Python 3",
   "language": "python",
   "name": "python3"
  },
  "language_info": {
   "codemirror_mode": {
    "name": "ipython",
    "version": 3
   },
   "file_extension": ".py",
   "mimetype": "text/x-python",
   "name": "python",
   "nbconvert_exporter": "python",
   "pygments_lexer": "ipython3",
   "version": "3.8.10"
  }
 },
 "nbformat": 4,
 "nbformat_minor": 2
}
