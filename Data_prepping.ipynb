{
 "cells": [
  {
   "cell_type": "code",
   "execution_count": null,
   "metadata": {},
   "outputs": [],
   "source": [
    "import os\n",
    "import json\n",
    "import pandas as pd"
   ]
  },
  {
   "cell_type": "code",
   "execution_count": 27,
   "metadata": {},
   "outputs": [],
   "source": [
    "json_dir = '/home/morrissimons/Desktop/avancerad_ml/datasets'\n",
    "merged_data = []\n",
    "\n",
    "for filename in os.listdir(json_dir):\n",
    "    if filename.endswith('.json') and filename != '6_dataset_full.json':\n",
    "        file_path = os.path.join(json_dir, filename)\n",
    "        with open(file_path, 'r') as file:\n",
    "            data = json.load(file)\n",
    "            if isinstance(data, list):\n",
    "                merged_data.extend(data)  # Flatten list\n",
    "            else:\n",
    "                merged_data.append(data)\n",
    "\n",
    "output_file = os.path.join(json_dir, '6_dataset_full.json')\n",
    "with open(output_file, 'w') as file:\n",
    "    json.dump(merged_data, file, indent=4)"
   ]
  },
  {
   "cell_type": "code",
   "execution_count": 29,
   "metadata": {},
   "outputs": [
    {
     "data": {
      "text/html": [
       "<div>\n",
       "<style scoped>\n",
       "    .dataframe tbody tr th:only-of-type {\n",
       "        vertical-align: middle;\n",
       "    }\n",
       "\n",
       "    .dataframe tbody tr th {\n",
       "        vertical-align: top;\n",
       "    }\n",
       "\n",
       "    .dataframe thead th {\n",
       "        text-align: right;\n",
       "    }\n",
       "</style>\n",
       "<table border=\"1\" class=\"dataframe\">\n",
       "  <thead>\n",
       "    <tr style=\"text-align: right;\">\n",
       "      <th></th>\n",
       "      <th>id</th>\n",
       "      <th>text</th>\n",
       "      <th>to_mask</th>\n",
       "    </tr>\n",
       "  </thead>\n",
       "  <tbody>\n",
       "    <tr>\n",
       "      <th>0</th>\n",
       "      <td>1</td>\n",
       "      <td>Hej! Jag heter Anna Svensson och vill flytta m...</td>\n",
       "      <td>[{'label': '[NAMN]', 'value': 'Anna Svensson'}...</td>\n",
       "    </tr>\n",
       "    <tr>\n",
       "      <th>1</th>\n",
       "      <td>2</td>\n",
       "      <td>Jag har nyligen flyttat till Storgatan 12, 123...</td>\n",
       "      <td>[{'label': '[ADRESS]', 'value': 'Storgatan 12,...</td>\n",
       "    </tr>\n",
       "    <tr>\n",
       "      <th>2</th>\n",
       "      <td>3</td>\n",
       "      <td>Jag vill ändra mina kontaktuppgifter. Mitt nya...</td>\n",
       "      <td>[{'label': '[TELEFONNUMMER]', 'value': '070-12...</td>\n",
       "    </tr>\n",
       "    <tr>\n",
       "      <th>3</th>\n",
       "      <td>4</td>\n",
       "      <td>Jag försökte logga in med mitt passnummer AB12...</td>\n",
       "      <td>[{'label': '[PASSNUMMER]', 'value': 'AB1234567...</td>\n",
       "    </tr>\n",
       "    <tr>\n",
       "      <th>4</th>\n",
       "      <td>5</td>\n",
       "      <td>Jag behöver uppdatera mitt bankkontonummer. De...</td>\n",
       "      <td>[{'label': '[BANKKONTONUMMER]', 'value': 'SE98...</td>\n",
       "    </tr>\n",
       "  </tbody>\n",
       "</table>\n",
       "</div>"
      ],
      "text/plain": [
       "   id                                               text  \\\n",
       "0   1  Hej! Jag heter Anna Svensson och vill flytta m...   \n",
       "1   2  Jag har nyligen flyttat till Storgatan 12, 123...   \n",
       "2   3  Jag vill ändra mina kontaktuppgifter. Mitt nya...   \n",
       "3   4  Jag försökte logga in med mitt passnummer AB12...   \n",
       "4   5  Jag behöver uppdatera mitt bankkontonummer. De...   \n",
       "\n",
       "                                             to_mask  \n",
       "0  [{'label': '[NAMN]', 'value': 'Anna Svensson'}...  \n",
       "1  [{'label': '[ADRESS]', 'value': 'Storgatan 12,...  \n",
       "2  [{'label': '[TELEFONNUMMER]', 'value': '070-12...  \n",
       "3  [{'label': '[PASSNUMMER]', 'value': 'AB1234567...  \n",
       "4  [{'label': '[BANKKONTONUMMER]', 'value': 'SE98...  "
      ]
     },
     "execution_count": 29,
     "metadata": {},
     "output_type": "execute_result"
    }
   ],
   "source": [
    "# Convert merged_data list to a pandas DataFrame\n",
    "df_merged = pd.DataFrame(merged_data)\n",
    "\n",
    "df_merged.head()"
   ]
  },
  {
   "cell_type": "code",
   "execution_count": 30,
   "metadata": {},
   "outputs": [
    {
     "name": "stdout",
     "output_type": "stream",
     "text": [
      "Number of unique ids: 700\n"
     ]
    }
   ],
   "source": [
    "count_num_ids = df_merged[\"id\"].nunique()\n",
    "print(f\"Number of unique ids: {count_num_ids}\")"
   ]
  },
  {
   "cell_type": "code",
   "execution_count": 45,
   "metadata": {},
   "outputs": [
    {
     "name": "stdout",
     "output_type": "stream",
     "text": [
      "['[NAMN]' '[PERSONNUMMER]' '[ORG-NUMMER]' '[ADRESS]' '[ADRESSHISTORIA]'\n",
      " '[TELEFONNUMMER]' '[E-POST]' '[PASSNUMMER]' '[IP-ADRESS]'\n",
      " '[BANKKONTONUMMER]' '[ARBETSPLATS]' '[ANSTÄLLNINGSTID]' '[CIVILSTAND]'\n",
      " '[POSTNUMMER]' '[KREDITKORTNUMMER]' '[BANKGIRONUMMER]' '[ARBETSGIVENHET]'\n",
      " '[TITEL]' '[FÖDELSEDAG]' '[NATIONALITET]' '[FÖDELSEPLATS]' '[ETNICITET]'\n",
      " '[SOCIALA_MEDIER_PROFILER]' '[ÅLDER]' '[KÖN]' '[CLEARINGNUMMER]' '[IBAN]'\n",
      " '[BIC]' '[STAD]' '[MEDARBETARID]' '[RELIGION]' '[LÄN]'\n",
      " '[SKATTEREGISTRERINGSNR]' '[LAND_TILLDELAT_SKATTEREGISTRERINGSNR]'\n",
      " '[PLUSGIRO]' '[FÖRSÄKRINGSNUMMER]' '[FÖRSÄKRAD]' '[INBETALNINGSREFERENS]'\n",
      " '[UTDELNINGSADRESS]' '[AVTALSSOMRÅDE]' '[AVTALSNUMMER]'\n",
      " '[PENSIONSÅLDER_KONTAKTPERSON]' '[STYRELSENS_SÄTE]' '[TIN]'\n",
      " '[FÖDELSELAND]' '[LEI]' '[GIIN]' '[AKTIEINNEHAV]']\n"
     ]
    }
   ],
   "source": [
    "# Count unique labels\n",
    "count_num_labels = df_merged[\"to_mask\"]\n",
    "\n",
    "distinct_labels = (\n",
    "    df[\"to_mask\"]\n",
    "    .explode()\n",
    "    .apply(lambda x: x[\"label\"] if isinstance(x, dict) else None)\n",
    "    .dropna()\n",
    "    .unique()\n",
    ")\n",
    "print(distinct_labels)"
   ]
  },
  {
   "cell_type": "code",
   "execution_count": 62,
   "metadata": {},
   "outputs": [],
   "source": [
    "# prettify\n",
    "from pprint import pprint\n",
    "import textwrap\n",
    "import random\n"
   ]
  },
  {
   "cell_type": "code",
   "execution_count": 63,
   "metadata": {},
   "outputs": [
    {
     "name": "stdout",
     "output_type": "stream",
     "text": [
      "\n",
      "Text:\n",
      "Min nuvarande arbetsplats har organisationsnummer 556777-8888, men jag vill inte\n",
      "ha pensionen placerad hos er längre. Kan ni hjälpa mig avsluta kontot?\n",
      "\n",
      "To Mask:\n",
      "[{'label': '[ORG-NUMMER]', 'value': 'Hexa Financial'}]\n",
      "================================================================================\n",
      "\n",
      "Text:\n",
      "Vi på InvesteringsGruppen SE (org-nummer 556800-5678) har noterat att kundens\n",
      "pension inte har flyttats korrekt. Kundens personnummer är 820305-6789. Vänligen\n",
      "bekräfta status.\n",
      "\n",
      "To Mask:\n",
      "[{'label': '[ARBETSPLATS]', 'value': 'BlueRock Ventures'},\n",
      " {'label': '[ORG-NUMMER]', 'value': 'Alpa Invest'},\n",
      " {'label': '[PERSONNUMMER]', 'value': '82030546789'}]\n",
      "================================================================================\n",
      "\n",
      "Text:\n",
      "Jag har 10 år anställningstid kvar och försöker flytta mitt pensionssparande\n",
      "från MinFinans AB. Ni lovade att det skulle vara klart förra veckan, men inget\n",
      "har hänt!\n",
      "\n",
      "To Mask:\n",
      "[{'label': '[ANSTÄLLNINGSTID]', 'value': '10 år'},\n",
      " {'label': '[ARBETSPLATS]', 'value': 'MinFinans AB'}]\n",
      "================================================================================\n",
      "\n",
      "Text:\n",
      "Min pappa, Lars Svensson, gick bort. Jag heter Anna Svensson och vill ta över\n",
      "hans sparkonto. Hans personnummer var 680707-8901.\n",
      "\n",
      "To Mask:\n",
      "[{'label': '[NAMN]', 'value': 'Lars Svensson'},\n",
      " {'label': '[NAMN]', 'value': 'Anna Svensson'},\n",
      " {'label': '[PERSONNUMMER]', 'value': '680707-8901'}]\n",
      "================================================================================\n",
      "\n",
      "Text:\n",
      "Hej, jag vill uppdatera min profil med ett nytt personnummer: 900101-1234. Jag\n",
      "har också bytt telefonnummer till 072-987 65 43.\n",
      "\n",
      "To Mask:\n",
      "[{'label': '[PERSONNUMMER]', 'value': '900101-1234'},\n",
      " {'label': '[TELEFONNUMMER]', 'value': '072-987 65 43'}]\n",
      "================================================================================\n",
      "\n",
      "Text:\n",
      "Hej Lysa, vi från FinansSupport (org-nummer 556955-6789) har en kund med IBAN\n",
      "SE90 7000 0000 4567 8901 2345 som behöver flyttas till vårt system. Kan ni\n",
      "hjälpa till?\n",
      "\n",
      "To Mask:\n",
      "[{'label': '[ARBETSPLATS]', 'value': 'Alpa Invest'},\n",
      " {'label': '[ORG-NUMMER]', 'value': 'Nordic Insight Group'},\n",
      " {'label': '[IBAN]', 'value': 'SE90 7000 0000 4567 8901 2345'}]\n",
      "================================================================================\n",
      "\n",
      "Text:\n",
      "Vi har tidigare meddelat en förändring i vår ägarstruktur, men har inte fått\n",
      "bekräftelse. Vår verkliga huvudman, Anna Bergström, äger indirekt bolaget genom\n",
      "Investment AB (organisationsnummer 556432-5678). Kan ni verifiera att detta har\n",
      "registrerats korrekt?\n",
      "\n",
      "To Mask:\n",
      "[{'label': '[NAMN]', 'value': 'Anna Bergström'},\n",
      " {'label': '[ARBETSPLATS]', 'value': 'Investment AB'},\n",
      " {'label': '[ORG-NUMMER]', 'value': '556432-5678'}]\n",
      "================================================================================\n",
      "\n",
      "Text:\n",
      "Hej, jag heter Peter Berg och vill ändra min pensionsålder kontaktperson till\n",
      "Lars Svensson. Min inbetalningsreferens är OCR-nr 1516171819. Min\n",
      "utdelningsadress är Sveavägen 50, box 13 i Stockholm.\n",
      "\n",
      "To Mask:\n",
      "[{'label': '[NAMN]', 'value': 'Peter Berg'},\n",
      " {'label': '[PENSIONSÅLDER_KONTAKTPERSON]', 'value': 'Lars Svensson'},\n",
      " {'label': '[INBETALNINGSREFERENS]', 'value': '1516171819'},\n",
      " {'label': '[UTDELNINGSADRESS]', 'value': 'Sveavägen 50, box 13 i Stockholm'}]\n",
      "================================================================================\n",
      "\n",
      "Text:\n",
      "Vi har nyligen genomfört en adressändring för vårt bolag från Storgatan 12 till\n",
      "Vasagatan 45, 111 20 Stockholm. Kan ni bekräfta att detta är uppdaterat i ert\n",
      "system?\n",
      "\n",
      "To Mask:\n",
      "[{'label': '[ADRESSHISTORIA]', 'value': 'Storgatan 12'},\n",
      " {'label': '[ADRESS]', 'value': 'Vasagatan 45, 111 20 Stockholm'}]\n",
      "================================================================================\n",
      "\n",
      "Text:\n",
      "Hej, jag vill öppna ett nytt sparkonto hos er. Jag heter Sofia Berg och mitt\n",
      "personnummer är 920101-5678. Vilka dokument behöver jag lämna in?\n",
      "\n",
      "To Mask:\n",
      "[{'label': '[NAMN]', 'value': 'Görkem Yildiz'},\n",
      " {'label': '[PERSONNUMMER]', 'value': '92010135678'}]\n",
      "================================================================================\n"
     ]
    }
   ],
   "source": [
    "\n",
    "# some random support requests and it's corresponding to_mask\n",
    "random.seed(42)\n",
    "samples = df_merged[[\"text\", \"to_mask\"]].sample(10)\n",
    "\n",
    "for index, row in samples.iterrows():\n",
    "\twrapped_text = '\\n'.join(textwrap.wrap(row['text'], width=80))\n",
    "\tprint(\"\\nText:\")\n",
    "\tprint(wrapped_text)\n",
    "\tprint(\"\\nTo Mask:\")\n",
    "\tpprint(row['to_mask'])\n",
    "\tprint(\"=\"*80)\n",
    "\t"
   ]
  },
  {
   "cell_type": "code",
   "execution_count": null,
   "metadata": {},
   "outputs": [],
   "source": []
  }
 ],
 "metadata": {
  "kernelspec": {
   "display_name": "Python 3",
   "language": "python",
   "name": "python3"
  },
  "language_info": {
   "codemirror_mode": {
    "name": "ipython",
    "version": 3
   },
   "file_extension": ".py",
   "mimetype": "text/x-python",
   "name": "python",
   "nbconvert_exporter": "python",
   "pygments_lexer": "ipython3",
   "version": "3.8.10"
  }
 },
 "nbformat": 4,
 "nbformat_minor": 2
}
