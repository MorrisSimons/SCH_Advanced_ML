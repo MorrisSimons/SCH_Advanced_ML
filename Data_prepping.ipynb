{
 "cells": [
  {
   "cell_type": "code",
   "execution_count": null,
   "metadata": {},
   "outputs": [],
   "source": [
    "import os\n",
    "import json\n",
    "import pandas as pd"
   ]
  },
  {
   "cell_type": "code",
   "execution_count": 27,
   "metadata": {},
   "outputs": [],
   "source": [
    "json_dir = '/home/morrissimons/Desktop/avancerad_ml/datasets'\n",
    "merged_data = []\n",
    "\n",
    "for filename in os.listdir(json_dir):\n",
    "    if filename.endswith('.json') and filename != '6_dataset_full.json':\n",
    "        file_path = os.path.join(json_dir, filename)\n",
    "        with open(file_path, 'r') as file:\n",
    "            data = json.load(file)\n",
    "            if isinstance(data, list):\n",
    "                merged_data.extend(data)  # Flatten list\n",
    "            else:\n",
    "                merged_data.append(data)\n",
    "\n",
    "output_file = os.path.join(json_dir, '6_dataset_full.json')\n",
    "with open(output_file, 'w') as file:\n",
    "    json.dump(merged_data, file, indent=4)"
   ]
  },
  {
   "cell_type": "code",
   "execution_count": 29,
   "metadata": {},
   "outputs": [
    {
     "data": {
      "text/html": [
       "<div>\n",
       "<style scoped>\n",
       "    .dataframe tbody tr th:only-of-type {\n",
       "        vertical-align: middle;\n",
       "    }\n",
       "\n",
       "    .dataframe tbody tr th {\n",
       "        vertical-align: top;\n",
       "    }\n",
       "\n",
       "    .dataframe thead th {\n",
       "        text-align: right;\n",
       "    }\n",
       "</style>\n",
       "<table border=\"1\" class=\"dataframe\">\n",
       "  <thead>\n",
       "    <tr style=\"text-align: right;\">\n",
       "      <th></th>\n",
       "      <th>id</th>\n",
       "      <th>text</th>\n",
       "      <th>to_mask</th>\n",
       "    </tr>\n",
       "  </thead>\n",
       "  <tbody>\n",
       "    <tr>\n",
       "      <th>0</th>\n",
       "      <td>1</td>\n",
       "      <td>Hej! Jag heter Anna Svensson och vill flytta m...</td>\n",
       "      <td>[{'label': '[NAMN]', 'value': 'Anna Svensson'}...</td>\n",
       "    </tr>\n",
       "    <tr>\n",
       "      <th>1</th>\n",
       "      <td>2</td>\n",
       "      <td>Jag har nyligen flyttat till Storgatan 12, 123...</td>\n",
       "      <td>[{'label': '[ADRESS]', 'value': 'Storgatan 12,...</td>\n",
       "    </tr>\n",
       "    <tr>\n",
       "      <th>2</th>\n",
       "      <td>3</td>\n",
       "      <td>Jag vill ändra mina kontaktuppgifter. Mitt nya...</td>\n",
       "      <td>[{'label': '[TELEFONNUMMER]', 'value': '070-12...</td>\n",
       "    </tr>\n",
       "    <tr>\n",
       "      <th>3</th>\n",
       "      <td>4</td>\n",
       "      <td>Jag försökte logga in med mitt passnummer AB12...</td>\n",
       "      <td>[{'label': '[PASSNUMMER]', 'value': 'AB1234567...</td>\n",
       "    </tr>\n",
       "    <tr>\n",
       "      <th>4</th>\n",
       "      <td>5</td>\n",
       "      <td>Jag behöver uppdatera mitt bankkontonummer. De...</td>\n",
       "      <td>[{'label': '[BANKKONTONUMMER]', 'value': 'SE98...</td>\n",
       "    </tr>\n",
       "  </tbody>\n",
       "</table>\n",
       "</div>"
      ],
      "text/plain": [
       "   id                                               text  \\\n",
       "0   1  Hej! Jag heter Anna Svensson och vill flytta m...   \n",
       "1   2  Jag har nyligen flyttat till Storgatan 12, 123...   \n",
       "2   3  Jag vill ändra mina kontaktuppgifter. Mitt nya...   \n",
       "3   4  Jag försökte logga in med mitt passnummer AB12...   \n",
       "4   5  Jag behöver uppdatera mitt bankkontonummer. De...   \n",
       "\n",
       "                                             to_mask  \n",
       "0  [{'label': '[NAMN]', 'value': 'Anna Svensson'}...  \n",
       "1  [{'label': '[ADRESS]', 'value': 'Storgatan 12,...  \n",
       "2  [{'label': '[TELEFONNUMMER]', 'value': '070-12...  \n",
       "3  [{'label': '[PASSNUMMER]', 'value': 'AB1234567...  \n",
       "4  [{'label': '[BANKKONTONUMMER]', 'value': 'SE98...  "
      ]
     },
     "execution_count": 29,
     "metadata": {},
     "output_type": "execute_result"
    }
   ],
   "source": [
    "# Convert merged_data list to a pandas DataFrame\n",
    "df_merged = pd.DataFrame(merged_data)\n",
    "\n",
    "df_merged.head()"
   ]
  },
  {
   "cell_type": "code",
   "execution_count": 30,
   "metadata": {},
   "outputs": [
    {
     "name": "stdout",
     "output_type": "stream",
     "text": [
      "Number of unique ids: 700\n"
     ]
    }
   ],
   "source": [
    "count_num_ids = df_merged[\"id\"].nunique()\n",
    "print(f\"Number of unique ids: {count_num_ids}\")"
   ]
  },
  {
   "cell_type": "code",
   "execution_count": 45,
   "metadata": {},
   "outputs": [
    {
     "name": "stdout",
     "output_type": "stream",
     "text": [
      "['[NAMN]' '[PERSONNUMMER]' '[ORG-NUMMER]' '[ADRESS]' '[ADRESSHISTORIA]'\n",
      " '[TELEFONNUMMER]' '[E-POST]' '[PASSNUMMER]' '[IP-ADRESS]'\n",
      " '[BANKKONTONUMMER]' '[ARBETSPLATS]' '[ANSTÄLLNINGSTID]' '[CIVILSTAND]'\n",
      " '[POSTNUMMER]' '[KREDITKORTNUMMER]' '[BANKGIRONUMMER]' '[ARBETSGIVENHET]'\n",
      " '[TITEL]' '[FÖDELSEDAG]' '[NATIONALITET]' '[FÖDELSEPLATS]' '[ETNICITET]'\n",
      " '[SOCIALA_MEDIER_PROFILER]' '[ÅLDER]' '[KÖN]' '[CLEARINGNUMMER]' '[IBAN]'\n",
      " '[BIC]' '[STAD]' '[MEDARBETARID]' '[RELIGION]' '[LÄN]'\n",
      " '[SKATTEREGISTRERINGSNR]' '[LAND_TILLDELAT_SKATTEREGISTRERINGSNR]'\n",
      " '[PLUSGIRO]' '[FÖRSÄKRINGSNUMMER]' '[FÖRSÄKRAD]' '[INBETALNINGSREFERENS]'\n",
      " '[UTDELNINGSADRESS]' '[AVTALSSOMRÅDE]' '[AVTALSNUMMER]'\n",
      " '[PENSIONSÅLDER_KONTAKTPERSON]' '[STYRELSENS_SÄTE]' '[TIN]'\n",
      " '[FÖDELSELAND]' '[LEI]' '[GIIN]' '[AKTIEINNEHAV]']\n"
     ]
    }
   ],
   "source": [
    "# Count unique labels\n",
    "count_num_labels = df_merged[\"to_mask\"]\n",
    "\n",
    "distinct_labels = (\n",
    "    df[\"to_mask\"]\n",
    "    .explode()\n",
    "    .apply(lambda x: x[\"label\"] if isinstance(x, dict) else None)\n",
    "    .dropna()\n",
    "    .unique()\n",
    ")\n",
    "print(distinct_labels)"
   ]
  }
 ],
 "metadata": {
  "kernelspec": {
   "display_name": "Python 3",
   "language": "python",
   "name": "python3"
  },
  "language_info": {
   "codemirror_mode": {
    "name": "ipython",
    "version": 3
   },
   "file_extension": ".py",
   "mimetype": "text/x-python",
   "name": "python",
   "nbconvert_exporter": "python",
   "pygments_lexer": "ipython3",
   "version": "3.8.10"
  }
 },
 "nbformat": 4,
 "nbformat_minor": 2
}
