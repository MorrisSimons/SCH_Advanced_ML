{
 "cells": [
  {
   "cell_type": "markdown",
   "metadata": {},
   "source": [
    "# PII Masking"
   ]
  },
  {
   "cell_type": "code",
   "execution_count": 5,
   "metadata": {},
   "outputs": [],
   "source": [
    "Labels = [\n",
    "    # **Identifikationsnummer**\n",
    "    \"[ORG-NUMMER]\",\n",
    "    \"[PERSONNUMMER]\",\n",
    "    \"[PASSNUMMER]\",             # Passport Number\n",
    "    \"[MEDARBETARID]\",           # Employee ID\n",
    "\n",
    "    # **Kontaktinformation**\n",
    "    \"[TELEFONNUMMER]\",\n",
    "    \"[E-POST]\",                 \n",
    "    \"[SOCIALA_MEDIER_PROFILER]\",\n",
    "\n",
    "    # **Adressinformation**\n",
    "    \"[ADRESS]\",\n",
    "    \"[ADRESSHISTORIA]\",         \n",
    "    \"[POSTNUMMER]\",\n",
    "    \"[STAD]\",                   \n",
    "    \"[LÄN]\",                    \n",
    "\n",
    "    # **Demografisk Information**\n",
    "    \"[NAMN]\",\n",
    "    \"[FÖDELSEDAG]\",\n",
    "    \"[FÖDELSEPLATS]\",\n",
    "    \"[ÅLDER]\",\n",
    "    \"[KÖN]\",\n",
    "    \"[NATIONALITET]\",           \n",
    "    \"[CIVILSTAND]\",             \n",
    "\n",
    "    # **Övrig Information**\n",
    "    \"[IP-ADRESS]\",              \n",
    "    \"[RELIGION]\",\n",
    "    \"[ETNICITET]\",              \n",
    "\n",
    "    # **Finansiell Information**\n",
    "    \"[BANKKONTONUMMER]\",        # Bank Account Number\n",
    "    \"[KREDITKORTNUMMER]\",       # Credit Card Number\n",
    "    \"[BANKGIRONUMMER]\",         # Bankgironummer\n",
    "    \"[CLEARINGNUMMER]\",         # Clearingnummer\n",
    "    \"[IBAN]\",                   # International Bank Account Number\n",
    "    \"[BIC]\",                    # Bank Identifier Code\n",
    "\n",
    "\n",
    "    # **Yrkesinformation**\n",
    "    \"[ARBETSPLATS]\",            # Arbetsplats\n",
    "    \"[TITEL]\",                  # Jobbtitel\n",
    "    \"[ARBETSGIVENHET]\",         # Arbetsgivar-ID\n",
    "    \"[ANSTÄLLNINGSTID]\",        # Anställningstid\n",
    "]\n"
   ]
  },
  {
   "cell_type": "code",
   "execution_count": 25,
   "metadata": {},
   "outputs": [
    {
     "data": {
      "text/html": [
       "<div>\n",
       "<style scoped>\n",
       "    .dataframe tbody tr th:only-of-type {\n",
       "        vertical-align: middle;\n",
       "    }\n",
       "\n",
       "    .dataframe tbody tr th {\n",
       "        vertical-align: top;\n",
       "    }\n",
       "\n",
       "    .dataframe thead th {\n",
       "        text-align: right;\n",
       "    }\n",
       "</style>\n",
       "<table border=\"1\" class=\"dataframe\">\n",
       "  <thead>\n",
       "    <tr style=\"text-align: right;\">\n",
       "      <th></th>\n",
       "      <th>id</th>\n",
       "      <th>text</th>\n",
       "      <th>to_mask</th>\n",
       "    </tr>\n",
       "  </thead>\n",
       "  <tbody>\n",
       "    <tr>\n",
       "      <th>0</th>\n",
       "      <td>1</td>\n",
       "      <td>Hej! Jag heter Anna Svensson och vill flytta min pension till er. Behöver jag uppge mitt personnummer 19921212-5678 redan nu eller räcker det med organisationsnumret 556677-8899 som jag fått från min arbetsgivare?</td>\n",
       "      <td>[{'label': '[NAMN]', 'value': 'Anna Svensson'}, {'label': '[PERSONNUMMER]', 'value': '19921212-5678'}, {'label': '[ORG-NUMMER]', 'value': '556677-8899'}]</td>\n",
       "    </tr>\n",
       "    <tr>\n",
       "      <th>1</th>\n",
       "      <td>2</td>\n",
       "      <td>Jag har nyligen flyttat till Storgatan 12, 123 45 Stockholm. Tidigare bodde jag på Lilla Torget 2, 111 22 Stockholm. Kan ni uppdatera så att inte min gamla adress används längre?</td>\n",
       "      <td>[{'label': '[ADRESS]', 'value': 'Storgatan 12, 123 45 Stockholm'}, {'label': '[ADRESSHISTORIA]', 'value': 'Lilla Torget 2, 111 22 Stockholm'}]</td>\n",
       "    </tr>\n",
       "    <tr>\n",
       "      <th>2</th>\n",
       "      <td>3</td>\n",
       "      <td>Jag vill ändra mina kontaktuppgifter. Mitt nya telefonnummer är 070-123 45 67 och min gamla e-postadress anna.svensson@olddomain.se gäller inte längre. Jag använder nu anna.svensson@example.com.</td>\n",
       "      <td>[{'label': '[TELEFONNUMMER]', 'value': '070-123 45 67'}, {'label': '[E-POST]', 'value': 'anna.svensson@olddomain.se'}, {'label': '[E-POST]', 'value': 'anna.svensson@example.com'}]</td>\n",
       "    </tr>\n",
       "    <tr>\n",
       "      <th>3</th>\n",
       "      <td>4</td>\n",
       "      <td>Jag försökte logga in med mitt passnummer AB1234567, men det gick inte. Behöver jag ange min IP-adress 192.168.0.1 för att ni ska kunna felsöka?</td>\n",
       "      <td>[{'label': '[PASSNUMMER]', 'value': 'AB1234567'}, {'label': '[IP-ADRESS]', 'value': '192.168.0.1'}]</td>\n",
       "    </tr>\n",
       "    <tr>\n",
       "      <th>4</th>\n",
       "      <td>5</td>\n",
       "      <td>Jag behöver uppdatera mitt bankkontonummer. Det gamla är SE98 1234 5678 9012 3456 7890, och nu vill jag använda SE12 3456 7890 1234 5678 9012.</td>\n",
       "      <td>[{'label': '[BANKKONTONUMMER]', 'value': 'SE98 1234 5678 9012 3456 7890'}, {'label': '[BANKKONTONUMMER]', 'value': 'SE12 3456 7890 1234 5678 9012'}]</td>\n",
       "    </tr>\n",
       "  </tbody>\n",
       "</table>\n",
       "</div>"
      ],
      "text/plain": [
       "   id  \\\n",
       "0   1   \n",
       "1   2   \n",
       "2   3   \n",
       "3   4   \n",
       "4   5   \n",
       "\n",
       "                                                                                                                                                                                                                    text  \\\n",
       "0  Hej! Jag heter Anna Svensson och vill flytta min pension till er. Behöver jag uppge mitt personnummer 19921212-5678 redan nu eller räcker det med organisationsnumret 556677-8899 som jag fått från min arbetsgivare?   \n",
       "1                                     Jag har nyligen flyttat till Storgatan 12, 123 45 Stockholm. Tidigare bodde jag på Lilla Torget 2, 111 22 Stockholm. Kan ni uppdatera så att inte min gamla adress används längre?   \n",
       "2                     Jag vill ändra mina kontaktuppgifter. Mitt nya telefonnummer är 070-123 45 67 och min gamla e-postadress anna.svensson@olddomain.se gäller inte längre. Jag använder nu anna.svensson@example.com.   \n",
       "3                                                                       Jag försökte logga in med mitt passnummer AB1234567, men det gick inte. Behöver jag ange min IP-adress 192.168.0.1 för att ni ska kunna felsöka?   \n",
       "4                                                                         Jag behöver uppdatera mitt bankkontonummer. Det gamla är SE98 1234 5678 9012 3456 7890, och nu vill jag använda SE12 3456 7890 1234 5678 9012.   \n",
       "\n",
       "                                                                                                                                                                               to_mask  \n",
       "0                            [{'label': '[NAMN]', 'value': 'Anna Svensson'}, {'label': '[PERSONNUMMER]', 'value': '19921212-5678'}, {'label': '[ORG-NUMMER]', 'value': '556677-8899'}]  \n",
       "1                                       [{'label': '[ADRESS]', 'value': 'Storgatan 12, 123 45 Stockholm'}, {'label': '[ADRESSHISTORIA]', 'value': 'Lilla Torget 2, 111 22 Stockholm'}]  \n",
       "2  [{'label': '[TELEFONNUMMER]', 'value': '070-123 45 67'}, {'label': '[E-POST]', 'value': 'anna.svensson@olddomain.se'}, {'label': '[E-POST]', 'value': 'anna.svensson@example.com'}]  \n",
       "3                                                                                  [{'label': '[PASSNUMMER]', 'value': 'AB1234567'}, {'label': '[IP-ADRESS]', 'value': '192.168.0.1'}]  \n",
       "4                                 [{'label': '[BANKKONTONUMMER]', 'value': 'SE98 1234 5678 9012 3456 7890'}, {'label': '[BANKKONTONUMMER]', 'value': 'SE12 3456 7890 1234 5678 9012'}]  "
      ]
     },
     "execution_count": 25,
     "metadata": {},
     "output_type": "execute_result"
    }
   ],
   "source": [
    "import pandas as pd\n",
    "\n",
    "# Load the JSON dataset\n",
    "df = pd.read_json('datasets/6_dataset_full.json')\n",
    "\n",
    "# Display the first few rows of the dataframe\n",
    "df.head()"
   ]
  },
  {
   "cell_type": "code",
   "execution_count": null,
   "metadata": {},
   "outputs": [],
   "source": [
    "# prettify\n",
    "from pprint import pprint\n",
    "import textwrap"
   ]
  },
  {
   "cell_type": "code",
   "execution_count": 26,
   "metadata": {},
   "outputs": [
    {
     "name": "stdout",
     "output_type": "stream",
     "text": [
      "Text:\n",
      "Hej! Jag heter Anna Svensson och vill flytta min pension till er. Behöver jag\n",
      "uppge mitt personnummer 19921212-5678 redan nu eller räcker det med\n",
      "organisationsnumret 556677-8899 som jag fått från min arbetsgivare?\n",
      "\n",
      "To Mask:\n",
      "[{'label': '[NAMN]', 'value': 'Anna Svensson'},\n",
      " {'label': '[PERSONNUMMER]', 'value': '19921212-5678'},\n",
      " {'label': '[ORG-NUMMER]', 'value': '556677-8899'}]\n"
     ]
    }
   ],
   "source": [
    "# Display the first example with text and to_mask columns\n",
    "first_example = df[['text', 'to_mask']].iloc[0]\n",
    "\n",
    "# Split the text into multiple lines for better readability\n",
    "first_example['text'] = '\\n'.join(textwrap.wrap(first_example['text'], width=80))\n",
    "print(\"Text:\")\n",
    "print(first_example['text'])\n",
    "print(\"\\nTo Mask:\")\n",
    "pprint(first_example['to_mask'])"
   ]
  },
  {
   "cell_type": "code",
   "execution_count": null,
   "metadata": {},
   "outputs": [],
   "source": []
  }
 ],
 "metadata": {
  "kernelspec": {
   "display_name": "Python 3",
   "language": "python",
   "name": "python3"
  },
  "language_info": {
   "codemirror_mode": {
    "name": "ipython",
    "version": 3
   },
   "file_extension": ".py",
   "mimetype": "text/x-python",
   "name": "python",
   "nbconvert_exporter": "python",
   "pygments_lexer": "ipython3",
   "version": "3.8.10"
  }
 },
 "nbformat": 4,
 "nbformat_minor": 2
}
