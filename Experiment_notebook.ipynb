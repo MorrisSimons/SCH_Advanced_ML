{
 "cells": [
  {
   "cell_type": "markdown",
   "metadata": {},
   "source": [
    "# PII Masking"
   ]
  },
  {
   "cell_type": "code",
   "execution_count": 1,
   "metadata": {},
   "outputs": [
    {
     "name": "stdout",
     "output_type": "stream",
     "text": [
      "Requirement already satisfied: presidio-analyzer in /home/morrissimons/miniconda3/lib/python3.12/site-packages (2.2.357)\n",
      "Requirement already satisfied: presidio-anonymizer in /home/morrissimons/miniconda3/lib/python3.12/site-packages (2.2.357)\n",
      "Requirement already satisfied: phonenumbers<9.0.0,>=8.12 in /home/morrissimons/miniconda3/lib/python3.12/site-packages (from presidio-analyzer) (8.13.54)\n",
      "Requirement already satisfied: pyyaml in /home/morrissimons/miniconda3/lib/python3.12/site-packages (from presidio-analyzer) (6.0.2)\n",
      "Requirement already satisfied: regex in /home/morrissimons/miniconda3/lib/python3.12/site-packages (from presidio-analyzer) (2024.11.6)\n",
      "Requirement already satisfied: spacy!=3.7.0,<4.0.0,>=3.4.4 in /home/morrissimons/miniconda3/lib/python3.12/site-packages (from presidio-analyzer) (3.8.4)\n",
      "Requirement already satisfied: tldextract in /home/morrissimons/miniconda3/lib/python3.12/site-packages (from presidio-analyzer) (5.1.3)\n",
      "Requirement already satisfied: azure-core in /home/morrissimons/miniconda3/lib/python3.12/site-packages (from presidio-anonymizer) (1.32.0)\n",
      "Requirement already satisfied: pycryptodome>=3.10.1 in /home/morrissimons/miniconda3/lib/python3.12/site-packages (from presidio-anonymizer) (3.21.0)\n",
      "Requirement already satisfied: spacy-legacy<3.1.0,>=3.0.11 in /home/morrissimons/miniconda3/lib/python3.12/site-packages (from spacy!=3.7.0,<4.0.0,>=3.4.4->presidio-analyzer) (3.0.12)\n",
      "Requirement already satisfied: spacy-loggers<2.0.0,>=1.0.0 in /home/morrissimons/miniconda3/lib/python3.12/site-packages (from spacy!=3.7.0,<4.0.0,>=3.4.4->presidio-analyzer) (1.0.5)\n",
      "Requirement already satisfied: murmurhash<1.1.0,>=0.28.0 in /home/morrissimons/miniconda3/lib/python3.12/site-packages (from spacy!=3.7.0,<4.0.0,>=3.4.4->presidio-analyzer) (1.0.12)\n",
      "Requirement already satisfied: cymem<2.1.0,>=2.0.2 in /home/morrissimons/miniconda3/lib/python3.12/site-packages (from spacy!=3.7.0,<4.0.0,>=3.4.4->presidio-analyzer) (2.0.11)\n",
      "Requirement already satisfied: preshed<3.1.0,>=3.0.2 in /home/morrissimons/miniconda3/lib/python3.12/site-packages (from spacy!=3.7.0,<4.0.0,>=3.4.4->presidio-analyzer) (3.0.9)\n",
      "Requirement already satisfied: thinc<8.4.0,>=8.3.4 in /home/morrissimons/miniconda3/lib/python3.12/site-packages (from spacy!=3.7.0,<4.0.0,>=3.4.4->presidio-analyzer) (8.3.4)\n",
      "Requirement already satisfied: wasabi<1.2.0,>=0.9.1 in /home/morrissimons/miniconda3/lib/python3.12/site-packages (from spacy!=3.7.0,<4.0.0,>=3.4.4->presidio-analyzer) (1.1.3)\n",
      "Requirement already satisfied: srsly<3.0.0,>=2.4.3 in /home/morrissimons/miniconda3/lib/python3.12/site-packages (from spacy!=3.7.0,<4.0.0,>=3.4.4->presidio-analyzer) (2.5.1)\n",
      "Requirement already satisfied: catalogue<2.1.0,>=2.0.6 in /home/morrissimons/miniconda3/lib/python3.12/site-packages (from spacy!=3.7.0,<4.0.0,>=3.4.4->presidio-analyzer) (2.0.10)\n",
      "Requirement already satisfied: weasel<0.5.0,>=0.1.0 in /home/morrissimons/miniconda3/lib/python3.12/site-packages (from spacy!=3.7.0,<4.0.0,>=3.4.4->presidio-analyzer) (0.4.1)\n",
      "Requirement already satisfied: typer<1.0.0,>=0.3.0 in /home/morrissimons/miniconda3/lib/python3.12/site-packages (from spacy!=3.7.0,<4.0.0,>=3.4.4->presidio-analyzer) (0.15.1)\n",
      "Requirement already satisfied: tqdm<5.0.0,>=4.38.0 in /home/morrissimons/miniconda3/lib/python3.12/site-packages (from spacy!=3.7.0,<4.0.0,>=3.4.4->presidio-analyzer) (4.66.5)\n",
      "Requirement already satisfied: numpy>=1.19.0 in /home/morrissimons/miniconda3/lib/python3.12/site-packages (from spacy!=3.7.0,<4.0.0,>=3.4.4->presidio-analyzer) (2.2.2)\n",
      "Requirement already satisfied: requests<3.0.0,>=2.13.0 in /home/morrissimons/miniconda3/lib/python3.12/site-packages (from spacy!=3.7.0,<4.0.0,>=3.4.4->presidio-analyzer) (2.32.3)\n",
      "Requirement already satisfied: pydantic!=1.8,!=1.8.1,<3.0.0,>=1.7.4 in /home/morrissimons/miniconda3/lib/python3.12/site-packages (from spacy!=3.7.0,<4.0.0,>=3.4.4->presidio-analyzer) (2.10.6)\n",
      "Requirement already satisfied: jinja2 in /home/morrissimons/miniconda3/lib/python3.12/site-packages (from spacy!=3.7.0,<4.0.0,>=3.4.4->presidio-analyzer) (3.1.5)\n",
      "Requirement already satisfied: setuptools in /home/morrissimons/miniconda3/lib/python3.12/site-packages (from spacy!=3.7.0,<4.0.0,>=3.4.4->presidio-analyzer) (75.1.0)\n",
      "Requirement already satisfied: packaging>=20.0 in /home/morrissimons/miniconda3/lib/python3.12/site-packages (from spacy!=3.7.0,<4.0.0,>=3.4.4->presidio-analyzer) (24.1)\n",
      "Requirement already satisfied: langcodes<4.0.0,>=3.2.0 in /home/morrissimons/miniconda3/lib/python3.12/site-packages (from spacy!=3.7.0,<4.0.0,>=3.4.4->presidio-analyzer) (3.5.0)\n",
      "Requirement already satisfied: six>=1.11.0 in /home/morrissimons/miniconda3/lib/python3.12/site-packages (from azure-core->presidio-anonymizer) (1.17.0)\n",
      "Requirement already satisfied: typing-extensions>=4.6.0 in /home/morrissimons/miniconda3/lib/python3.12/site-packages (from azure-core->presidio-anonymizer) (4.12.2)\n",
      "Requirement already satisfied: idna in /home/morrissimons/miniconda3/lib/python3.12/site-packages (from tldextract->presidio-analyzer) (3.7)\n",
      "Requirement already satisfied: requests-file>=1.4 in /home/morrissimons/miniconda3/lib/python3.12/site-packages (from tldextract->presidio-analyzer) (2.1.0)\n",
      "Requirement already satisfied: filelock>=3.0.8 in /home/morrissimons/miniconda3/lib/python3.12/site-packages (from tldextract->presidio-analyzer) (3.17.0)\n",
      "Requirement already satisfied: language-data>=1.2 in /home/morrissimons/miniconda3/lib/python3.12/site-packages (from langcodes<4.0.0,>=3.2.0->spacy!=3.7.0,<4.0.0,>=3.4.4->presidio-analyzer) (1.3.0)\n",
      "Requirement already satisfied: annotated-types>=0.6.0 in /home/morrissimons/miniconda3/lib/python3.12/site-packages (from pydantic!=1.8,!=1.8.1,<3.0.0,>=1.7.4->spacy!=3.7.0,<4.0.0,>=3.4.4->presidio-analyzer) (0.7.0)\n",
      "Requirement already satisfied: pydantic-core==2.27.2 in /home/morrissimons/miniconda3/lib/python3.12/site-packages (from pydantic!=1.8,!=1.8.1,<3.0.0,>=1.7.4->spacy!=3.7.0,<4.0.0,>=3.4.4->presidio-analyzer) (2.27.2)\n",
      "Requirement already satisfied: charset-normalizer<4,>=2 in /home/morrissimons/miniconda3/lib/python3.12/site-packages (from requests<3.0.0,>=2.13.0->spacy!=3.7.0,<4.0.0,>=3.4.4->presidio-analyzer) (3.3.2)\n",
      "Requirement already satisfied: urllib3<3,>=1.21.1 in /home/morrissimons/miniconda3/lib/python3.12/site-packages (from requests<3.0.0,>=2.13.0->spacy!=3.7.0,<4.0.0,>=3.4.4->presidio-analyzer) (2.2.3)\n",
      "Requirement already satisfied: certifi>=2017.4.17 in /home/morrissimons/miniconda3/lib/python3.12/site-packages (from requests<3.0.0,>=2.13.0->spacy!=3.7.0,<4.0.0,>=3.4.4->presidio-analyzer) (2024.12.14)\n",
      "Requirement already satisfied: blis<1.3.0,>=1.2.0 in /home/morrissimons/miniconda3/lib/python3.12/site-packages (from thinc<8.4.0,>=8.3.4->spacy!=3.7.0,<4.0.0,>=3.4.4->presidio-analyzer) (1.2.0)\n",
      "Requirement already satisfied: confection<1.0.0,>=0.0.1 in /home/morrissimons/miniconda3/lib/python3.12/site-packages (from thinc<8.4.0,>=8.3.4->spacy!=3.7.0,<4.0.0,>=3.4.4->presidio-analyzer) (0.1.5)\n",
      "Requirement already satisfied: click>=8.0.0 in /home/morrissimons/miniconda3/lib/python3.12/site-packages (from typer<1.0.0,>=0.3.0->spacy!=3.7.0,<4.0.0,>=3.4.4->presidio-analyzer) (8.1.8)\n",
      "Requirement already satisfied: shellingham>=1.3.0 in /home/morrissimons/miniconda3/lib/python3.12/site-packages (from typer<1.0.0,>=0.3.0->spacy!=3.7.0,<4.0.0,>=3.4.4->presidio-analyzer) (1.5.4)\n",
      "Requirement already satisfied: rich>=10.11.0 in /home/morrissimons/miniconda3/lib/python3.12/site-packages (from typer<1.0.0,>=0.3.0->spacy!=3.7.0,<4.0.0,>=3.4.4->presidio-analyzer) (13.9.4)\n",
      "Requirement already satisfied: cloudpathlib<1.0.0,>=0.7.0 in /home/morrissimons/miniconda3/lib/python3.12/site-packages (from weasel<0.5.0,>=0.1.0->spacy!=3.7.0,<4.0.0,>=3.4.4->presidio-analyzer) (0.20.0)\n",
      "Requirement already satisfied: smart-open<8.0.0,>=5.2.1 in /home/morrissimons/miniconda3/lib/python3.12/site-packages (from weasel<0.5.0,>=0.1.0->spacy!=3.7.0,<4.0.0,>=3.4.4->presidio-analyzer) (7.1.0)\n",
      "Requirement already satisfied: MarkupSafe>=2.0 in /home/morrissimons/miniconda3/lib/python3.12/site-packages (from jinja2->spacy!=3.7.0,<4.0.0,>=3.4.4->presidio-analyzer) (3.0.2)\n",
      "Requirement already satisfied: marisa-trie>=1.1.0 in /home/morrissimons/miniconda3/lib/python3.12/site-packages (from language-data>=1.2->langcodes<4.0.0,>=3.2.0->spacy!=3.7.0,<4.0.0,>=3.4.4->presidio-analyzer) (1.2.1)\n",
      "Requirement already satisfied: markdown-it-py>=2.2.0 in /home/morrissimons/miniconda3/lib/python3.12/site-packages (from rich>=10.11.0->typer<1.0.0,>=0.3.0->spacy!=3.7.0,<4.0.0,>=3.4.4->presidio-analyzer) (3.0.0)\n",
      "Requirement already satisfied: pygments<3.0.0,>=2.13.0 in /home/morrissimons/miniconda3/lib/python3.12/site-packages (from rich>=10.11.0->typer<1.0.0,>=0.3.0->spacy!=3.7.0,<4.0.0,>=3.4.4->presidio-analyzer) (2.19.1)\n",
      "Requirement already satisfied: wrapt in /home/morrissimons/miniconda3/lib/python3.12/site-packages (from smart-open<8.0.0,>=5.2.1->weasel<0.5.0,>=0.1.0->spacy!=3.7.0,<4.0.0,>=3.4.4->presidio-analyzer) (1.17.2)\n",
      "Requirement already satisfied: mdurl~=0.1 in /home/morrissimons/miniconda3/lib/python3.12/site-packages (from markdown-it-py>=2.2.0->rich>=10.11.0->typer<1.0.0,>=0.3.0->spacy!=3.7.0,<4.0.0,>=3.4.4->presidio-analyzer) (0.1.2)\n",
      "Requirement already satisfied: spacy in /home/morrissimons/miniconda3/lib/python3.12/site-packages (3.8.4)\n",
      "Requirement already satisfied: spacy-transformers in /home/morrissimons/miniconda3/lib/python3.12/site-packages (1.3.5)\n",
      "Requirement already satisfied: spacy-legacy<3.1.0,>=3.0.11 in /home/morrissimons/miniconda3/lib/python3.12/site-packages (from spacy) (3.0.12)\n",
      "Requirement already satisfied: spacy-loggers<2.0.0,>=1.0.0 in /home/morrissimons/miniconda3/lib/python3.12/site-packages (from spacy) (1.0.5)\n",
      "Requirement already satisfied: murmurhash<1.1.0,>=0.28.0 in /home/morrissimons/miniconda3/lib/python3.12/site-packages (from spacy) (1.0.12)\n",
      "Requirement already satisfied: cymem<2.1.0,>=2.0.2 in /home/morrissimons/miniconda3/lib/python3.12/site-packages (from spacy) (2.0.11)\n",
      "Requirement already satisfied: preshed<3.1.0,>=3.0.2 in /home/morrissimons/miniconda3/lib/python3.12/site-packages (from spacy) (3.0.9)\n",
      "Requirement already satisfied: thinc<8.4.0,>=8.3.4 in /home/morrissimons/miniconda3/lib/python3.12/site-packages (from spacy) (8.3.4)\n",
      "Requirement already satisfied: wasabi<1.2.0,>=0.9.1 in /home/morrissimons/miniconda3/lib/python3.12/site-packages (from spacy) (1.1.3)\n",
      "Requirement already satisfied: srsly<3.0.0,>=2.4.3 in /home/morrissimons/miniconda3/lib/python3.12/site-packages (from spacy) (2.5.1)\n",
      "Requirement already satisfied: catalogue<2.1.0,>=2.0.6 in /home/morrissimons/miniconda3/lib/python3.12/site-packages (from spacy) (2.0.10)\n",
      "Requirement already satisfied: weasel<0.5.0,>=0.1.0 in /home/morrissimons/miniconda3/lib/python3.12/site-packages (from spacy) (0.4.1)\n",
      "Requirement already satisfied: typer<1.0.0,>=0.3.0 in /home/morrissimons/miniconda3/lib/python3.12/site-packages (from spacy) (0.15.1)\n",
      "Requirement already satisfied: tqdm<5.0.0,>=4.38.0 in /home/morrissimons/miniconda3/lib/python3.12/site-packages (from spacy) (4.66.5)\n",
      "Requirement already satisfied: numpy>=1.19.0 in /home/morrissimons/miniconda3/lib/python3.12/site-packages (from spacy) (2.2.2)\n",
      "Requirement already satisfied: requests<3.0.0,>=2.13.0 in /home/morrissimons/miniconda3/lib/python3.12/site-packages (from spacy) (2.32.3)\n",
      "Requirement already satisfied: pydantic!=1.8,!=1.8.1,<3.0.0,>=1.7.4 in /home/morrissimons/miniconda3/lib/python3.12/site-packages (from spacy) (2.10.6)\n",
      "Requirement already satisfied: jinja2 in /home/morrissimons/miniconda3/lib/python3.12/site-packages (from spacy) (3.1.5)\n",
      "Requirement already satisfied: setuptools in /home/morrissimons/miniconda3/lib/python3.12/site-packages (from spacy) (75.1.0)\n",
      "Requirement already satisfied: packaging>=20.0 in /home/morrissimons/miniconda3/lib/python3.12/site-packages (from spacy) (24.1)\n",
      "Requirement already satisfied: langcodes<4.0.0,>=3.2.0 in /home/morrissimons/miniconda3/lib/python3.12/site-packages (from spacy) (3.5.0)\n",
      "Requirement already satisfied: transformers<4.37.0,>=3.4.0 in /home/morrissimons/miniconda3/lib/python3.12/site-packages (from spacy-transformers) (4.36.2)\n",
      "Requirement already satisfied: torch>=1.8.0 in /home/morrissimons/miniconda3/lib/python3.12/site-packages (from spacy-transformers) (2.6.0)\n",
      "Requirement already satisfied: spacy-alignments<1.0.0,>=0.7.2 in /home/morrissimons/miniconda3/lib/python3.12/site-packages (from spacy-transformers) (0.9.1)\n",
      "Requirement already satisfied: language-data>=1.2 in /home/morrissimons/miniconda3/lib/python3.12/site-packages (from langcodes<4.0.0,>=3.2.0->spacy) (1.3.0)\n",
      "Requirement already satisfied: annotated-types>=0.6.0 in /home/morrissimons/miniconda3/lib/python3.12/site-packages (from pydantic!=1.8,!=1.8.1,<3.0.0,>=1.7.4->spacy) (0.7.0)\n",
      "Requirement already satisfied: pydantic-core==2.27.2 in /home/morrissimons/miniconda3/lib/python3.12/site-packages (from pydantic!=1.8,!=1.8.1,<3.0.0,>=1.7.4->spacy) (2.27.2)\n",
      "Requirement already satisfied: typing-extensions>=4.12.2 in /home/morrissimons/miniconda3/lib/python3.12/site-packages (from pydantic!=1.8,!=1.8.1,<3.0.0,>=1.7.4->spacy) (4.12.2)\n",
      "Requirement already satisfied: charset-normalizer<4,>=2 in /home/morrissimons/miniconda3/lib/python3.12/site-packages (from requests<3.0.0,>=2.13.0->spacy) (3.3.2)\n",
      "Requirement already satisfied: idna<4,>=2.5 in /home/morrissimons/miniconda3/lib/python3.12/site-packages (from requests<3.0.0,>=2.13.0->spacy) (3.7)\n",
      "Requirement already satisfied: urllib3<3,>=1.21.1 in /home/morrissimons/miniconda3/lib/python3.12/site-packages (from requests<3.0.0,>=2.13.0->spacy) (2.2.3)\n",
      "Requirement already satisfied: certifi>=2017.4.17 in /home/morrissimons/miniconda3/lib/python3.12/site-packages (from requests<3.0.0,>=2.13.0->spacy) (2024.12.14)\n",
      "Requirement already satisfied: blis<1.3.0,>=1.2.0 in /home/morrissimons/miniconda3/lib/python3.12/site-packages (from thinc<8.4.0,>=8.3.4->spacy) (1.2.0)\n",
      "Requirement already satisfied: confection<1.0.0,>=0.0.1 in /home/morrissimons/miniconda3/lib/python3.12/site-packages (from thinc<8.4.0,>=8.3.4->spacy) (0.1.5)\n",
      "Requirement already satisfied: filelock in /home/morrissimons/miniconda3/lib/python3.12/site-packages (from torch>=1.8.0->spacy-transformers) (3.17.0)\n",
      "Requirement already satisfied: networkx in /home/morrissimons/miniconda3/lib/python3.12/site-packages (from torch>=1.8.0->spacy-transformers) (3.4.2)\n",
      "Requirement already satisfied: fsspec in /home/morrissimons/miniconda3/lib/python3.12/site-packages (from torch>=1.8.0->spacy-transformers) (2024.12.0)\n",
      "Requirement already satisfied: nvidia-cuda-nvrtc-cu12==12.4.127 in /home/morrissimons/miniconda3/lib/python3.12/site-packages (from torch>=1.8.0->spacy-transformers) (12.4.127)\n",
      "Requirement already satisfied: nvidia-cuda-runtime-cu12==12.4.127 in /home/morrissimons/miniconda3/lib/python3.12/site-packages (from torch>=1.8.0->spacy-transformers) (12.4.127)\n",
      "Requirement already satisfied: nvidia-cuda-cupti-cu12==12.4.127 in /home/morrissimons/miniconda3/lib/python3.12/site-packages (from torch>=1.8.0->spacy-transformers) (12.4.127)\n",
      "Requirement already satisfied: nvidia-cudnn-cu12==9.1.0.70 in /home/morrissimons/miniconda3/lib/python3.12/site-packages (from torch>=1.8.0->spacy-transformers) (9.1.0.70)\n",
      "Requirement already satisfied: nvidia-cublas-cu12==12.4.5.8 in /home/morrissimons/miniconda3/lib/python3.12/site-packages (from torch>=1.8.0->spacy-transformers) (12.4.5.8)\n",
      "Requirement already satisfied: nvidia-cufft-cu12==11.2.1.3 in /home/morrissimons/miniconda3/lib/python3.12/site-packages (from torch>=1.8.0->spacy-transformers) (11.2.1.3)\n",
      "Requirement already satisfied: nvidia-curand-cu12==10.3.5.147 in /home/morrissimons/miniconda3/lib/python3.12/site-packages (from torch>=1.8.0->spacy-transformers) (10.3.5.147)\n",
      "Requirement already satisfied: nvidia-cusolver-cu12==11.6.1.9 in /home/morrissimons/miniconda3/lib/python3.12/site-packages (from torch>=1.8.0->spacy-transformers) (11.6.1.9)\n",
      "Requirement already satisfied: nvidia-cusparse-cu12==12.3.1.170 in /home/morrissimons/miniconda3/lib/python3.12/site-packages (from torch>=1.8.0->spacy-transformers) (12.3.1.170)\n",
      "Requirement already satisfied: nvidia-cusparselt-cu12==0.6.2 in /home/morrissimons/miniconda3/lib/python3.12/site-packages (from torch>=1.8.0->spacy-transformers) (0.6.2)\n",
      "Requirement already satisfied: nvidia-nccl-cu12==2.21.5 in /home/morrissimons/miniconda3/lib/python3.12/site-packages (from torch>=1.8.0->spacy-transformers) (2.21.5)\n",
      "Requirement already satisfied: nvidia-nvtx-cu12==12.4.127 in /home/morrissimons/miniconda3/lib/python3.12/site-packages (from torch>=1.8.0->spacy-transformers) (12.4.127)\n",
      "Requirement already satisfied: nvidia-nvjitlink-cu12==12.4.127 in /home/morrissimons/miniconda3/lib/python3.12/site-packages (from torch>=1.8.0->spacy-transformers) (12.4.127)\n",
      "Requirement already satisfied: triton==3.2.0 in /home/morrissimons/miniconda3/lib/python3.12/site-packages (from torch>=1.8.0->spacy-transformers) (3.2.0)\n",
      "Requirement already satisfied: sympy==1.13.1 in /home/morrissimons/miniconda3/lib/python3.12/site-packages (from torch>=1.8.0->spacy-transformers) (1.13.1)\n",
      "Requirement already satisfied: mpmath<1.4,>=1.1.0 in /home/morrissimons/miniconda3/lib/python3.12/site-packages (from sympy==1.13.1->torch>=1.8.0->spacy-transformers) (1.3.0)\n",
      "Requirement already satisfied: huggingface-hub<1.0,>=0.19.3 in /home/morrissimons/miniconda3/lib/python3.12/site-packages (from transformers<4.37.0,>=3.4.0->spacy-transformers) (0.28.1)\n",
      "Requirement already satisfied: pyyaml>=5.1 in /home/morrissimons/miniconda3/lib/python3.12/site-packages (from transformers<4.37.0,>=3.4.0->spacy-transformers) (6.0.2)\n",
      "Requirement already satisfied: regex!=2019.12.17 in /home/morrissimons/miniconda3/lib/python3.12/site-packages (from transformers<4.37.0,>=3.4.0->spacy-transformers) (2024.11.6)\n",
      "Requirement already satisfied: tokenizers<0.19,>=0.14 in /home/morrissimons/miniconda3/lib/python3.12/site-packages (from transformers<4.37.0,>=3.4.0->spacy-transformers) (0.15.2)\n",
      "Requirement already satisfied: safetensors>=0.3.1 in /home/morrissimons/miniconda3/lib/python3.12/site-packages (from transformers<4.37.0,>=3.4.0->spacy-transformers) (0.5.2)\n",
      "Requirement already satisfied: click>=8.0.0 in /home/morrissimons/miniconda3/lib/python3.12/site-packages (from typer<1.0.0,>=0.3.0->spacy) (8.1.8)\n",
      "Requirement already satisfied: shellingham>=1.3.0 in /home/morrissimons/miniconda3/lib/python3.12/site-packages (from typer<1.0.0,>=0.3.0->spacy) (1.5.4)\n",
      "Requirement already satisfied: rich>=10.11.0 in /home/morrissimons/miniconda3/lib/python3.12/site-packages (from typer<1.0.0,>=0.3.0->spacy) (13.9.4)\n",
      "Requirement already satisfied: cloudpathlib<1.0.0,>=0.7.0 in /home/morrissimons/miniconda3/lib/python3.12/site-packages (from weasel<0.5.0,>=0.1.0->spacy) (0.20.0)\n",
      "Requirement already satisfied: smart-open<8.0.0,>=5.2.1 in /home/morrissimons/miniconda3/lib/python3.12/site-packages (from weasel<0.5.0,>=0.1.0->spacy) (7.1.0)\n",
      "Requirement already satisfied: MarkupSafe>=2.0 in /home/morrissimons/miniconda3/lib/python3.12/site-packages (from jinja2->spacy) (3.0.2)\n",
      "Requirement already satisfied: marisa-trie>=1.1.0 in /home/morrissimons/miniconda3/lib/python3.12/site-packages (from language-data>=1.2->langcodes<4.0.0,>=3.2.0->spacy) (1.2.1)\n",
      "Requirement already satisfied: markdown-it-py>=2.2.0 in /home/morrissimons/miniconda3/lib/python3.12/site-packages (from rich>=10.11.0->typer<1.0.0,>=0.3.0->spacy) (3.0.0)\n",
      "Requirement already satisfied: pygments<3.0.0,>=2.13.0 in /home/morrissimons/miniconda3/lib/python3.12/site-packages (from rich>=10.11.0->typer<1.0.0,>=0.3.0->spacy) (2.19.1)\n",
      "Requirement already satisfied: wrapt in /home/morrissimons/miniconda3/lib/python3.12/site-packages (from smart-open<8.0.0,>=5.2.1->weasel<0.5.0,>=0.1.0->spacy) (1.17.2)\n",
      "Requirement already satisfied: mdurl~=0.1 in /home/morrissimons/miniconda3/lib/python3.12/site-packages (from markdown-it-py>=2.2.0->rich>=10.11.0->typer<1.0.0,>=0.3.0->spacy) (0.1.2)\n",
      "Requirement already satisfied: pandas in /home/morrissimons/miniconda3/lib/python3.12/site-packages (2.2.3)\n",
      "Requirement already satisfied: numpy>=1.26.0 in /home/morrissimons/miniconda3/lib/python3.12/site-packages (from pandas) (2.2.2)\n",
      "Requirement already satisfied: python-dateutil>=2.8.2 in /home/morrissimons/miniconda3/lib/python3.12/site-packages (from pandas) (2.9.0.post0)\n",
      "Requirement already satisfied: pytz>=2020.1 in /home/morrissimons/miniconda3/lib/python3.12/site-packages (from pandas) (2025.1)\n",
      "Requirement already satisfied: tzdata>=2022.7 in /home/morrissimons/miniconda3/lib/python3.12/site-packages (from pandas) (2025.1)\n",
      "Requirement already satisfied: six>=1.5 in /home/morrissimons/miniconda3/lib/python3.12/site-packages (from python-dateutil>=2.8.2->pandas) (1.17.0)\n",
      "Requirement already satisfied: transformers in /home/morrissimons/miniconda3/lib/python3.12/site-packages (4.36.2)\n",
      "Requirement already satisfied: torch in /home/morrissimons/miniconda3/lib/python3.12/site-packages (2.6.0)\n",
      "Requirement already satisfied: filelock in /home/morrissimons/miniconda3/lib/python3.12/site-packages (from transformers) (3.17.0)\n",
      "Requirement already satisfied: huggingface-hub<1.0,>=0.19.3 in /home/morrissimons/miniconda3/lib/python3.12/site-packages (from transformers) (0.28.1)\n",
      "Requirement already satisfied: numpy>=1.17 in /home/morrissimons/miniconda3/lib/python3.12/site-packages (from transformers) (2.2.2)\n",
      "Requirement already satisfied: packaging>=20.0 in /home/morrissimons/miniconda3/lib/python3.12/site-packages (from transformers) (24.1)\n",
      "Requirement already satisfied: pyyaml>=5.1 in /home/morrissimons/miniconda3/lib/python3.12/site-packages (from transformers) (6.0.2)\n",
      "Requirement already satisfied: regex!=2019.12.17 in /home/morrissimons/miniconda3/lib/python3.12/site-packages (from transformers) (2024.11.6)\n",
      "Requirement already satisfied: requests in /home/morrissimons/miniconda3/lib/python3.12/site-packages (from transformers) (2.32.3)\n",
      "Requirement already satisfied: tokenizers<0.19,>=0.14 in /home/morrissimons/miniconda3/lib/python3.12/site-packages (from transformers) (0.15.2)\n",
      "Requirement already satisfied: safetensors>=0.3.1 in /home/morrissimons/miniconda3/lib/python3.12/site-packages (from transformers) (0.5.2)\n",
      "Requirement already satisfied: tqdm>=4.27 in /home/morrissimons/miniconda3/lib/python3.12/site-packages (from transformers) (4.66.5)\n",
      "Requirement already satisfied: typing-extensions>=4.10.0 in /home/morrissimons/miniconda3/lib/python3.12/site-packages (from torch) (4.12.2)\n",
      "Requirement already satisfied: networkx in /home/morrissimons/miniconda3/lib/python3.12/site-packages (from torch) (3.4.2)\n",
      "Requirement already satisfied: jinja2 in /home/morrissimons/miniconda3/lib/python3.12/site-packages (from torch) (3.1.5)\n",
      "Requirement already satisfied: fsspec in /home/morrissimons/miniconda3/lib/python3.12/site-packages (from torch) (2024.12.0)\n",
      "Requirement already satisfied: nvidia-cuda-nvrtc-cu12==12.4.127 in /home/morrissimons/miniconda3/lib/python3.12/site-packages (from torch) (12.4.127)\n",
      "Requirement already satisfied: nvidia-cuda-runtime-cu12==12.4.127 in /home/morrissimons/miniconda3/lib/python3.12/site-packages (from torch) (12.4.127)\n",
      "Requirement already satisfied: nvidia-cuda-cupti-cu12==12.4.127 in /home/morrissimons/miniconda3/lib/python3.12/site-packages (from torch) (12.4.127)\n",
      "Requirement already satisfied: nvidia-cudnn-cu12==9.1.0.70 in /home/morrissimons/miniconda3/lib/python3.12/site-packages (from torch) (9.1.0.70)\n",
      "Requirement already satisfied: nvidia-cublas-cu12==12.4.5.8 in /home/morrissimons/miniconda3/lib/python3.12/site-packages (from torch) (12.4.5.8)\n",
      "Requirement already satisfied: nvidia-cufft-cu12==11.2.1.3 in /home/morrissimons/miniconda3/lib/python3.12/site-packages (from torch) (11.2.1.3)\n",
      "Requirement already satisfied: nvidia-curand-cu12==10.3.5.147 in /home/morrissimons/miniconda3/lib/python3.12/site-packages (from torch) (10.3.5.147)\n",
      "Requirement already satisfied: nvidia-cusolver-cu12==11.6.1.9 in /home/morrissimons/miniconda3/lib/python3.12/site-packages (from torch) (11.6.1.9)\n",
      "Requirement already satisfied: nvidia-cusparse-cu12==12.3.1.170 in /home/morrissimons/miniconda3/lib/python3.12/site-packages (from torch) (12.3.1.170)\n",
      "Requirement already satisfied: nvidia-cusparselt-cu12==0.6.2 in /home/morrissimons/miniconda3/lib/python3.12/site-packages (from torch) (0.6.2)\n",
      "Requirement already satisfied: nvidia-nccl-cu12==2.21.5 in /home/morrissimons/miniconda3/lib/python3.12/site-packages (from torch) (2.21.5)\n",
      "Requirement already satisfied: nvidia-nvtx-cu12==12.4.127 in /home/morrissimons/miniconda3/lib/python3.12/site-packages (from torch) (12.4.127)\n",
      "Requirement already satisfied: nvidia-nvjitlink-cu12==12.4.127 in /home/morrissimons/miniconda3/lib/python3.12/site-packages (from torch) (12.4.127)\n",
      "Requirement already satisfied: triton==3.2.0 in /home/morrissimons/miniconda3/lib/python3.12/site-packages (from torch) (3.2.0)\n",
      "Requirement already satisfied: setuptools in /home/morrissimons/miniconda3/lib/python3.12/site-packages (from torch) (75.1.0)\n",
      "Requirement already satisfied: sympy==1.13.1 in /home/morrissimons/miniconda3/lib/python3.12/site-packages (from torch) (1.13.1)\n",
      "Requirement already satisfied: mpmath<1.4,>=1.1.0 in /home/morrissimons/miniconda3/lib/python3.12/site-packages (from sympy==1.13.1->torch) (1.3.0)\n",
      "Requirement already satisfied: MarkupSafe>=2.0 in /home/morrissimons/miniconda3/lib/python3.12/site-packages (from jinja2->torch) (3.0.2)\n",
      "Requirement already satisfied: charset-normalizer<4,>=2 in /home/morrissimons/miniconda3/lib/python3.12/site-packages (from requests->transformers) (3.3.2)\n",
      "Requirement already satisfied: idna<4,>=2.5 in /home/morrissimons/miniconda3/lib/python3.12/site-packages (from requests->transformers) (3.7)\n",
      "Requirement already satisfied: urllib3<3,>=1.21.1 in /home/morrissimons/miniconda3/lib/python3.12/site-packages (from requests->transformers) (2.2.3)\n",
      "Requirement already satisfied: certifi>=2017.4.17 in /home/morrissimons/miniconda3/lib/python3.12/site-packages (from requests->transformers) (2024.12.14)\n"
     ]
    }
   ],
   "source": [
    "!pip install presidio-analyzer presidio-anonymizer\n",
    "!pip install spacy spacy-transformers\n",
    "!pip install pandas\n",
    "!pip install transformers torch"
   ]
  },
  {
   "cell_type": "code",
   "execution_count": 2,
   "metadata": {},
   "outputs": [
    {
     "name": "stdout",
     "output_type": "stream",
     "text": [
      "/home/morrissimons/miniconda3/lib/python3.12/site-packages/transformers/utils/generic.py:441: FutureWarning: `torch.utils._pytree._register_pytree_node` is deprecated. Please use `torch.utils._pytree.register_pytree_node` instead.\n",
      "  _torch_pytree._register_pytree_node(\n",
      "/home/morrissimons/miniconda3/lib/python3.12/site-packages/transformers/utils/generic.py:309: FutureWarning: `torch.utils._pytree._register_pytree_node` is deprecated. Please use `torch.utils._pytree.register_pytree_node` instead.\n",
      "  _torch_pytree._register_pytree_node(\n",
      "\u001b[38;5;2m✔ Auto-filled config with all values\u001b[0m\n",
      "\u001b[38;5;2m✔ Saved config\u001b[0m\n",
      "config.cfg\n",
      "You can now add your data and train your pipeline:\n",
      "python -m spacy train config.cfg --paths.train ./train.spacy --paths.dev ./dev.spacy\n"
     ]
    }
   ],
   "source": [
    "!python3 -m spacy init fill-config base_config.cfg config.cfg"
   ]
  },
  {
   "cell_type": "code",
   "execution_count": 3,
   "metadata": {},
   "outputs": [],
   "source": [
    "Labels = [\n",
    "    # **Identifikationsnummer**\n",
    "    \"[ORG-NUMMER]\",\n",
    "    \"[PERSONNUMMER]\",\n",
    "    \"[PASSNUMMER]\",             # Passport Number\n",
    "    \"[MEDARBETARID]\",           # Employee ID\n",
    "\n",
    "    # **Kontaktinformation**\n",
    "    \"[TELEFONNUMMER]\",\n",
    "    \"[E-POST]\",                 \n",
    "    \"[SOCIALA_MEDIER_PROFILER]\",\n",
    "\n",
    "    # **Adressinformation**\n",
    "    \"[ADRESS]\",\n",
    "    \"[ADRESSHISTORIA]\",         \n",
    "    \"[POSTNUMMER]\",\n",
    "    \"[STAD]\",                   \n",
    "    \"[LÄN]\",                    \n",
    "\n",
    "    # **Demografisk Information**\n",
    "    \"[NAMN]\",\n",
    "    \"[FÖDELSEDAG]\",\n",
    "    \"[FÖDELSEPLATS]\",\n",
    "    \"[ÅLDER]\",\n",
    "    \"[KÖN]\",\n",
    "    \"[NATIONALITET]\",           \n",
    "    \"[CIVILSTAND]\",             \n",
    "\n",
    "    # **Övrig Information**\n",
    "    \"[IP-ADRESS]\",              \n",
    "    \"[RELIGION]\",\n",
    "    \"[ETNICITET]\",              \n",
    "\n",
    "    # **Finansiell Information**\n",
    "    \"[BANKKONTONUMMER]\",        # Bank Account Number\n",
    "    \"[KREDITKORTNUMMER]\",       # Credit Card Number\n",
    "    \"[BANKGIRONUMMER]\",         # Bankgironummer\n",
    "    \"[CLEARINGNUMMER]\",         # Clearingnummer\n",
    "    \"[IBAN]\",                   # International Bank Account Number\n",
    "    \"[BIC]\",                    # Bank Identifier Code\n",
    "\n",
    "\n",
    "    # **Yrkesinformation**\n",
    "    \"[ARBETSPLATS]\",            # Arbetsplats\n",
    "    \"[TITEL]\",                  # Jobbtitel\n",
    "    \"[ARBETSGIVENHET]\",         # Arbetsgivar-ID\n",
    "    \"[ANSTÄLLNINGSTID]\",        # Anställningstid\n",
    "]\n"
   ]
  },
  {
   "cell_type": "code",
   "execution_count": 4,
   "metadata": {},
   "outputs": [
    {
     "data": {
      "text/html": [
       "<div>\n",
       "<style scoped>\n",
       "    .dataframe tbody tr th:only-of-type {\n",
       "        vertical-align: middle;\n",
       "    }\n",
       "\n",
       "    .dataframe tbody tr th {\n",
       "        vertical-align: top;\n",
       "    }\n",
       "\n",
       "    .dataframe thead th {\n",
       "        text-align: right;\n",
       "    }\n",
       "</style>\n",
       "<table border=\"1\" class=\"dataframe\">\n",
       "  <thead>\n",
       "    <tr style=\"text-align: right;\">\n",
       "      <th></th>\n",
       "      <th>id</th>\n",
       "      <th>text</th>\n",
       "      <th>to_mask</th>\n",
       "    </tr>\n",
       "  </thead>\n",
       "  <tbody>\n",
       "    <tr>\n",
       "      <th>0</th>\n",
       "      <td>1</td>\n",
       "      <td>Hej! Jag heter Anna Svensson och vill flytta m...</td>\n",
       "      <td>[{'label': '[NAMN]', 'value': 'Anna Svensson'}...</td>\n",
       "    </tr>\n",
       "    <tr>\n",
       "      <th>1</th>\n",
       "      <td>2</td>\n",
       "      <td>Jag har nyligen flyttat till Storgatan 12, 123...</td>\n",
       "      <td>[{'label': '[ADRESS]', 'value': 'Storgatan 12,...</td>\n",
       "    </tr>\n",
       "    <tr>\n",
       "      <th>2</th>\n",
       "      <td>3</td>\n",
       "      <td>Jag vill ändra mina kontaktuppgifter. Mitt nya...</td>\n",
       "      <td>[{'label': '[TELEFONNUMMER]', 'value': '070-12...</td>\n",
       "    </tr>\n",
       "    <tr>\n",
       "      <th>3</th>\n",
       "      <td>4</td>\n",
       "      <td>Jag försökte logga in med mitt passnummer AB12...</td>\n",
       "      <td>[{'label': '[PASSNUMMER]', 'value': 'AB1234567...</td>\n",
       "    </tr>\n",
       "    <tr>\n",
       "      <th>4</th>\n",
       "      <td>5</td>\n",
       "      <td>Jag behöver uppdatera mitt bankkontonummer. De...</td>\n",
       "      <td>[{'label': '[BANKKONTONUMMER]', 'value': 'SE98...</td>\n",
       "    </tr>\n",
       "  </tbody>\n",
       "</table>\n",
       "</div>"
      ],
      "text/plain": [
       "   id                                               text  \\\n",
       "0   1  Hej! Jag heter Anna Svensson och vill flytta m...   \n",
       "1   2  Jag har nyligen flyttat till Storgatan 12, 123...   \n",
       "2   3  Jag vill ändra mina kontaktuppgifter. Mitt nya...   \n",
       "3   4  Jag försökte logga in med mitt passnummer AB12...   \n",
       "4   5  Jag behöver uppdatera mitt bankkontonummer. De...   \n",
       "\n",
       "                                             to_mask  \n",
       "0  [{'label': '[NAMN]', 'value': 'Anna Svensson'}...  \n",
       "1  [{'label': '[ADRESS]', 'value': 'Storgatan 12,...  \n",
       "2  [{'label': '[TELEFONNUMMER]', 'value': '070-12...  \n",
       "3  [{'label': '[PASSNUMMER]', 'value': 'AB1234567...  \n",
       "4  [{'label': '[BANKKONTONUMMER]', 'value': 'SE98...  "
      ]
     },
     "execution_count": 4,
     "metadata": {},
     "output_type": "execute_result"
    }
   ],
   "source": [
    "import pandas as pd\n",
    "\n",
    "# Load the JSON dataset\n",
    "df = pd.read_json('datasets/6_dataset_full.json')\n",
    "\n",
    "# Display the first few rows of the dataframe\n",
    "df.head()"
   ]
  },
  {
   "cell_type": "code",
   "execution_count": 5,
   "metadata": {},
   "outputs": [],
   "source": [
    "# prettify\n",
    "from pprint import pprint\n",
    "import textwrap"
   ]
  },
  {
   "cell_type": "code",
   "execution_count": 6,
   "metadata": {},
   "outputs": [
    {
     "name": "stdout",
     "output_type": "stream",
     "text": [
      "Text:\n",
      "Hej! Jag heter Anna Svensson och vill flytta min pension till er. Behöver jag\n",
      "uppge mitt personnummer 19921212-5678 redan nu eller räcker det med\n",
      "organisationsnumret 556677-8899 som jag fått från min arbetsgivare?\n",
      "\n",
      "To Mask:\n",
      "[{'label': '[NAMN]', 'value': 'Anna Svensson'},\n",
      " {'label': '[PERSONNUMMER]', 'value': '19921212-5678'},\n",
      " {'label': '[ORG-NUMMER]', 'value': '556677-8899'}]\n"
     ]
    }
   ],
   "source": [
    "# Display the first example with text and to_mask columns\n",
    "first_example = df[['text', 'to_mask']].iloc[0]\n",
    "\n",
    "# Split the text into multiple lines for better readability\n",
    "first_example['text'] = '\\n'.join(textwrap.wrap(first_example['text'], width=80))\n",
    "print(\"Text:\")\n",
    "print(first_example['text'])\n",
    "print(\"\\nTo Mask:\")\n",
    "pprint(first_example['to_mask'])"
   ]
  },
  {
   "cell_type": "markdown",
   "metadata": {},
   "source": [
    "#### NLP: presidio with Spacy\n"
   ]
  },
  {
   "cell_type": "markdown",
   "metadata": {},
   "source": [
    "##### Test"
   ]
  },
  {
   "cell_type": "code",
   "execution_count": 7,
   "metadata": {},
   "outputs": [
    {
     "name": "stderr",
     "output_type": "stream",
     "text": [
      "/home/morrissimons/miniconda3/lib/python3.12/site-packages/tqdm/auto.py:21: TqdmWarning: IProgress not found. Please update jupyter and ipywidgets. See https://ipywidgets.readthedocs.io/en/stable/user_install.html\n",
      "  from .autonotebook import tqdm as notebook_tqdm\n",
      "/home/morrissimons/miniconda3/lib/python3.12/site-packages/transformers/utils/generic.py:441: FutureWarning: `torch.utils._pytree._register_pytree_node` is deprecated. Please use `torch.utils._pytree.register_pytree_node` instead.\n",
      "  _torch_pytree._register_pytree_node(\n",
      "/home/morrissimons/miniconda3/lib/python3.12/site-packages/transformers/utils/generic.py:309: FutureWarning: `torch.utils._pytree._register_pytree_node` is deprecated. Please use `torch.utils._pytree.register_pytree_node` instead.\n",
      "  _torch_pytree._register_pytree_node(\n"
     ]
    },
    {
     "name": "stdout",
     "output_type": "stream",
     "text": [
      "[type: PHONE_NUMBER, start: 19, end: 31, score: 0.75]\n"
     ]
    }
   ],
   "source": [
    "from presidio_analyzer import AnalyzerEngine\n",
    "\n",
    "# Set up the engine, loads the NLP module (spaCy model by default) and other PII recognizers\n",
    "analyzer = AnalyzerEngine()\n",
    "\n",
    "# Call analyzer to get results\n",
    "results = analyzer.analyze(text=\"My phone number is 212-555-5555\",\n",
    "                           entities=[\"PHONE_NUMBER\"],\n",
    "                           language='en')\n",
    "print(results)"
   ]
  },
  {
   "cell_type": "markdown",
   "metadata": {},
   "source": [
    "#### Swedish installation of Spacy"
   ]
  },
  {
   "cell_type": "code",
   "execution_count": 8,
   "metadata": {},
   "outputs": [
    {
     "name": "stdout",
     "output_type": "stream",
     "text": [
      "Collecting sv-core-news-lg==3.8.0\n",
      "  Downloading https://github.com/explosion/spacy-models/releases/download/sv_core_news_lg-3.8.0/sv_core_news_lg-3.8.0-py3-none-any.whl (228.9 MB)\n",
      "\u001b[2K     \u001b[38;2;114;156;31m━━━━━━━━━━━━━━━━━━━━━━━━━━━━━━━━━━━━━━\u001b[0m \u001b[32m228.9/228.9 MB\u001b[0m \u001b[31m11.4 MB/s\u001b[0m eta \u001b[36m0:00:00\u001b[0mm eta \u001b[36m0:00:01\u001b[0m[36m0:00:01\u001b[0m\n",
      "\u001b[?25h\u001b[38;5;2m✔ Download and installation successful\u001b[0m\n",
      "You can now load the package via spacy.load('sv_core_news_lg')\n"
     ]
    }
   ],
   "source": [
    "!python -m spacy download sv_core_news_lg"
   ]
  },
  {
   "cell_type": "code",
   "execution_count": 12,
   "metadata": {},
   "outputs": [],
   "source": [
    "# Load the Swedish model\n",
    "import spacy\n",
    "from presidio_analyzer.nlp_engine import SpacyNlpEngine\n",
    "\n",
    "nlp = spacy.load(\"sv_core_news_lg\")\n",
    "\n",
    "# Create a custom SpacyNlpEngine with the loaded model\n",
    "class LoadedSpacyNlpEngine(SpacyNlpEngine):\n",
    "    def __init__(self, loaded_spacy_model):\n",
    "        super().__init__()\n",
    "        self.nlp = {\"sv\": loaded_spacy_model}\n",
    "\n",
    "# Initialize the custom NLP engine\n",
    "loaded_nlp_engine = LoadedSpacyNlpEngine(loaded_spacy_model=nlp)\n",
    "\n",
    "# Initialize the AnalyzerEngine with the custom NLP engine\n",
    "analyzer = AnalyzerEngine(nlp_engine=loaded_nlp_engine, supported_languages=[\"sv\"])"
   ]
  },
  {
   "cell_type": "markdown",
   "metadata": {},
   "source": [
    "#### Test in swedish"
   ]
  },
  {
   "cell_type": "code",
   "execution_count": null,
   "metadata": {},
   "outputs": [
    {
     "ename": "ValueError",
     "evalue": "No matching recognizers were found to serve the request.",
     "output_type": "error",
     "traceback": [
      "\u001b[0;31m---------------------------------------------------------------------------\u001b[0m",
      "\u001b[0;31mValueError\u001b[0m                                Traceback (most recent call last)",
      "Cell \u001b[0;32mIn[14], line 3\u001b[0m\n\u001b[1;32m      1\u001b[0m sample \u001b[38;5;241m=\u001b[39m \u001b[38;5;124m\"\u001b[39m\u001b[38;5;124mMitt telefonnummer är 0768888888\u001b[39m\u001b[38;5;124m\"\u001b[39m\n\u001b[1;32m      2\u001b[0m \u001b[38;5;66;03m# Analyze text\u001b[39;00m\n\u001b[0;32m----> 3\u001b[0m results \u001b[38;5;241m=\u001b[39m \u001b[43manalyzer\u001b[49m\u001b[38;5;241;43m.\u001b[39;49m\u001b[43manalyze\u001b[49m\u001b[43m(\u001b[49m\n\u001b[1;32m      4\u001b[0m \u001b[43m    \u001b[49m\u001b[43mtext\u001b[49m\u001b[38;5;241;43m=\u001b[39;49m\u001b[43msample\u001b[49m\u001b[43m,\u001b[49m\n\u001b[1;32m      5\u001b[0m \u001b[43m    \u001b[49m\u001b[43mentities\u001b[49m\u001b[38;5;241;43m=\u001b[39;49m\u001b[43m[\u001b[49m\u001b[38;5;124;43m\"\u001b[39;49m\u001b[38;5;124;43m[PHONE_NUMBER]\u001b[39;49m\u001b[38;5;124;43m\"\u001b[39;49m\u001b[43m]\u001b[49m\u001b[43m,\u001b[49m\n\u001b[1;32m      6\u001b[0m \u001b[43m    \u001b[49m\u001b[43mlanguage\u001b[49m\u001b[38;5;241;43m=\u001b[39;49m\u001b[38;5;124;43m\"\u001b[39;49m\u001b[38;5;124;43msv\u001b[39;49m\u001b[38;5;124;43m\"\u001b[39;49m\n\u001b[1;32m      7\u001b[0m \u001b[43m)\u001b[49m\n\u001b[1;32m      9\u001b[0m \u001b[38;5;66;03m# Print results\u001b[39;00m\n\u001b[1;32m     10\u001b[0m \u001b[38;5;28;01mfor\u001b[39;00m result \u001b[38;5;129;01min\u001b[39;00m results:\n",
      "File \u001b[0;32m~/miniconda3/lib/python3.12/site-packages/presidio_analyzer/analyzer_engine.py:206\u001b[0m, in \u001b[0;36mAnalyzerEngine.analyze\u001b[0;34m(self, text, language, entities, correlation_id, score_threshold, return_decision_process, ad_hoc_recognizers, context, allow_list, allow_list_match, regex_flags, nlp_artifacts)\u001b[0m\n\u001b[1;32m    163\u001b[0m \u001b[38;5;250m\u001b[39m\u001b[38;5;124;03m\"\"\"\u001b[39;00m\n\u001b[1;32m    164\u001b[0m \u001b[38;5;124;03mFind PII entities in text using different PII recognizers for a given language.\u001b[39;00m\n\u001b[1;32m    165\u001b[0m \n\u001b[0;32m   (...)\u001b[0m\n\u001b[1;32m    201\u001b[0m \n\u001b[1;32m    202\u001b[0m \u001b[38;5;124;03m\"\"\"\u001b[39;00m  \u001b[38;5;66;03m# noqa: E501\u001b[39;00m\n\u001b[1;32m    204\u001b[0m all_fields \u001b[38;5;241m=\u001b[39m \u001b[38;5;129;01mnot\u001b[39;00m entities\n\u001b[0;32m--> 206\u001b[0m recognizers \u001b[38;5;241m=\u001b[39m \u001b[38;5;28;43mself\u001b[39;49m\u001b[38;5;241;43m.\u001b[39;49m\u001b[43mregistry\u001b[49m\u001b[38;5;241;43m.\u001b[39;49m\u001b[43mget_recognizers\u001b[49m\u001b[43m(\u001b[49m\n\u001b[1;32m    207\u001b[0m \u001b[43m    \u001b[49m\u001b[43mlanguage\u001b[49m\u001b[38;5;241;43m=\u001b[39;49m\u001b[43mlanguage\u001b[49m\u001b[43m,\u001b[49m\n\u001b[1;32m    208\u001b[0m \u001b[43m    \u001b[49m\u001b[43mentities\u001b[49m\u001b[38;5;241;43m=\u001b[39;49m\u001b[43mentities\u001b[49m\u001b[43m,\u001b[49m\n\u001b[1;32m    209\u001b[0m \u001b[43m    \u001b[49m\u001b[43mall_fields\u001b[49m\u001b[38;5;241;43m=\u001b[39;49m\u001b[43mall_fields\u001b[49m\u001b[43m,\u001b[49m\n\u001b[1;32m    210\u001b[0m \u001b[43m    \u001b[49m\u001b[43mad_hoc_recognizers\u001b[49m\u001b[38;5;241;43m=\u001b[39;49m\u001b[43mad_hoc_recognizers\u001b[49m\u001b[43m,\u001b[49m\n\u001b[1;32m    211\u001b[0m \u001b[43m\u001b[49m\u001b[43m)\u001b[49m\n\u001b[1;32m    213\u001b[0m \u001b[38;5;28;01mif\u001b[39;00m all_fields:\n\u001b[1;32m    214\u001b[0m     \u001b[38;5;66;03m# Since all_fields=True, list all entities by iterating\u001b[39;00m\n\u001b[1;32m    215\u001b[0m     \u001b[38;5;66;03m# over all recognizers\u001b[39;00m\n\u001b[1;32m    216\u001b[0m     entities \u001b[38;5;241m=\u001b[39m \u001b[38;5;28mself\u001b[39m\u001b[38;5;241m.\u001b[39mget_supported_entities(language\u001b[38;5;241m=\u001b[39mlanguage)\n",
      "File \u001b[0;32m~/miniconda3/lib/python3.12/site-packages/presidio_analyzer/recognizer_registry/recognizer_registry.py:197\u001b[0m, in \u001b[0;36mRecognizerRegistry.get_recognizers\u001b[0;34m(self, language, entities, all_fields, ad_hoc_recognizers)\u001b[0m\n\u001b[1;32m    191\u001b[0m logger\u001b[38;5;241m.\u001b[39mdebug(\n\u001b[1;32m    192\u001b[0m     \u001b[38;5;124m\"\u001b[39m\u001b[38;5;124mReturning a total of \u001b[39m\u001b[38;5;132;01m%s\u001b[39;00m\u001b[38;5;124m recognizers\u001b[39m\u001b[38;5;124m\"\u001b[39m,\n\u001b[1;32m    193\u001b[0m     \u001b[38;5;28mstr\u001b[39m(\u001b[38;5;28mlen\u001b[39m(to_return)),\n\u001b[1;32m    194\u001b[0m )\n\u001b[1;32m    196\u001b[0m \u001b[38;5;28;01mif\u001b[39;00m \u001b[38;5;129;01mnot\u001b[39;00m to_return:\n\u001b[0;32m--> 197\u001b[0m     \u001b[38;5;28;01mraise\u001b[39;00m \u001b[38;5;167;01mValueError\u001b[39;00m(\u001b[38;5;124m\"\u001b[39m\u001b[38;5;124mNo matching recognizers were found to serve the request.\u001b[39m\u001b[38;5;124m\"\u001b[39m)\n\u001b[1;32m    199\u001b[0m \u001b[38;5;28;01mreturn\u001b[39;00m \u001b[38;5;28mlist\u001b[39m(to_return)\n",
      "\u001b[0;31mValueError\u001b[0m: No matching recognizers were found to serve the request."
     ]
    }
   ],
   "source": [
    "sample = \"Mitt telefonnummer är 0768888888\"\n",
    "# Analyze text\n",
    "results = analyzer.analyze(\n",
    "    text=sample,\n",
    "    entities=[\"[ PHONE_NUMBER ]\"],\n",
    "    language=\"sv\"\n",
    ")\n",
    "\n",
    "# Print results\n",
    "for result in results:\n",
    "    print(f\"Entity: {result.entity_type}, Text: {result.start}-{result.end}, Score: {result.score}\")\n"
   ]
  },
  {
   "cell_type": "code",
   "execution_count": 41,
   "metadata": {},
   "outputs": [
    {
     "ename": "NameError",
     "evalue": "name 'sample' is not defined",
     "output_type": "error",
     "traceback": [
      "\u001b[0;31m---------------------------------------------------------------------------\u001b[0m",
      "\u001b[0;31mNameError\u001b[0m                                 Traceback (most recent call last)",
      "Cell \u001b[0;32mIn[41], line 7\u001b[0m\n\u001b[1;32m      4\u001b[0m             text \u001b[38;5;241m=\u001b[39m text[:result\u001b[38;5;241m.\u001b[39mstart] \u001b[38;5;241m+\u001b[39m result\u001b[38;5;241m.\u001b[39mentity_type \u001b[38;5;241m+\u001b[39m text[result\u001b[38;5;241m.\u001b[39mend:]\n\u001b[1;32m      5\u001b[0m     \u001b[38;5;28;01mreturn\u001b[39;00m text\n\u001b[0;32m----> 7\u001b[0m results \u001b[38;5;241m=\u001b[39m analyzer\u001b[38;5;241m.\u001b[39manalyze(text\u001b[38;5;241m=\u001b[39m\u001b[43msample\u001b[49m, entities\u001b[38;5;241m=\u001b[39m[\u001b[38;5;124m\"\u001b[39m\u001b[38;5;124mPHONE_NUMBER\u001b[39m\u001b[38;5;124m\"\u001b[39m], language\u001b[38;5;241m=\u001b[39m\u001b[38;5;124m\"\u001b[39m\u001b[38;5;124msv\u001b[39m\u001b[38;5;124m\"\u001b[39m)\n\u001b[1;32m      8\u001b[0m masked_text \u001b[38;5;241m=\u001b[39m mask_phone_numbers(sample, results)\n\u001b[1;32m      9\u001b[0m \u001b[38;5;28mprint\u001b[39m(masked_text)\n",
      "\u001b[0;31mNameError\u001b[0m: name 'sample' is not defined"
     ]
    }
   ],
   "source": [
    "def mask_phone_numbers(text, results):\n",
    "    for result in results:\n",
    "        if result.score > 0.3 and result.entity_type == \"PHONE_NUMBER\":\n",
    "            text = text[:result.start] + result.entity_type + text[result.end:]\n",
    "    return text\n",
    "\n",
    "results = analyzer.analyze(text=sample, entities=[\"PHONE_NUMBER\"], language=\"sv\")\n",
    "masked_text = mask_phone_numbers(sample, results)\n",
    "print(masked_text)"
   ]
  }
 ],
 "metadata": {
  "kernelspec": {
   "display_name": "base",
   "language": "python",
   "name": "python3"
  },
  "language_info": {
   "codemirror_mode": {
    "name": "ipython",
    "version": 3
   },
   "file_extension": ".py",
   "mimetype": "text/x-python",
   "name": "python",
   "nbconvert_exporter": "python",
   "pygments_lexer": "ipython3",
   "version": "3.12.2"
  }
 },
 "nbformat": 4,
 "nbformat_minor": 2
}
