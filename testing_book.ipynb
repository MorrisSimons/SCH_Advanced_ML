{
 "cells": [
  {
   "cell_type": "markdown",
   "metadata": {},
   "source": [
    "### Deny list Test"
   ]
  },
  {
   "cell_type": "code",
   "execution_count": 11,
   "metadata": {},
   "outputs": [
    {
     "name": "stdout",
     "output_type": "stream",
     "text": [
      "Result:\n",
      " [type: TITLE, start: 10, end: 19, score: 1.0]\n"
     ]
    }
   ],
   "source": [
    "titles_list = [\n",
    "    \"Sir\",\n",
    "    \"Ma'am\",\n",
    "    \"Madam\",\n",
    "    \"Mr.\",\n",
    "    \"Mrs.\",\n",
    "    \"Ms.\",\n",
    "    \"Miss\",\n",
    "    \"Dr.\",\n",
    "    \"Professor\",\n",
    "]\n",
    "from presidio_analyzer import PatternRecognizer\n",
    "\n",
    "titles_recognizer = PatternRecognizer(supported_entity=\"TITLE\", deny_list=titles_list)\n",
    "\n",
    "text1 = \"I suspect Professor Plum, in the Dining Room, with the candlestick\"\n",
    "result = titles_recognizer.analyze(text1, entities=[\"TITLE\"])\n",
    "print(f\"Result:\\n {result}\")"
   ]
  },
  {
   "cell_type": "code",
   "execution_count": 12,
   "metadata": {},
   "outputs": [],
   "source": [
    "from presidio_analyzer import AnalyzerEngine\n",
    "\n",
    "analyzer = AnalyzerEngine()\n",
    "analyzer.registry.add_recognizer(titles_recognizer)"
   ]
  },
  {
   "cell_type": "code",
   "execution_count": 13,
   "metadata": {},
   "outputs": [],
   "source": [
    "results = analyzer.analyze(text=text1, language=\"en\")"
   ]
  },
  {
   "cell_type": "code",
   "execution_count": 14,
   "metadata": {},
   "outputs": [
    {
     "name": "stdout",
     "output_type": "stream",
     "text": [
      "Results:\n",
      "[type: TITLE, start: 10, end: 19, score: 1.0, type: PERSON, start: 20, end: 24, score: 0.85, type: LOCATION, start: 29, end: 44, score: 0.85, type: DATE_TIME, start: 55, end: 66, score: 0.85]\n"
     ]
    }
   ],
   "source": [
    "print(\"Results:\")\n",
    "print(results)"
   ]
  },
  {
   "cell_type": "code",
   "execution_count": 15,
   "metadata": {},
   "outputs": [
    {
     "name": "stdout",
     "output_type": "stream",
     "text": [
      "Identified these PII entities:\n",
      "- Professor as TITLE\n",
      "- Plum as PERSON\n",
      "- the Dining Room as LOCATION\n",
      "- candlestick as DATE_TIME\n"
     ]
    }
   ],
   "source": [
    "print(\"Identified these PII entities:\")\n",
    "for result in results:\n",
    "    print(f\"- {text1[result.start:result.end]} as {result.entity_type}\")"
   ]
  },
  {
   "cell_type": "markdown",
   "metadata": {},
   "source": [
    "### Allowlist Test"
   ]
  },
  {
   "cell_type": "code",
   "execution_count": 16,
   "metadata": {},
   "outputs": [],
   "source": [
    "websites_list = [\n",
    "    \"bing.com\",\n",
    "    \"microsoft.com\"\n",
    "]"
   ]
  },
  {
   "cell_type": "code",
   "execution_count": 17,
   "metadata": {},
   "outputs": [
    {
     "name": "stdout",
     "output_type": "stream",
     "text": [
      "Result: \n",
      " [type: URL, start: 23, end: 31, score: 0.85, type: URL, start: 40, end: 53, score: 0.85]\n"
     ]
    }
   ],
   "source": [
    "from presidio_analyzer import AnalyzerEngine\n",
    "text1 = \"My favorite website is bing.com, his is microsoft.com\"\n",
    "analyzer = AnalyzerEngine()\n",
    "result = analyzer.analyze(text = text1, language = 'en')\n",
    "print(f\"Result: \\n {result}\")"
   ]
  },
  {
   "cell_type": "code",
   "execution_count": 18,
   "metadata": {},
   "outputs": [
    {
     "name": "stdout",
     "output_type": "stream",
     "text": [
      "Result:\n",
      " [type: URL, start: 40, end: 53, score: 0.85]\n"
     ]
    }
   ],
   "source": [
    "result = analyzer.analyze(text = text1, language = 'en', allow_list = [\"bing.com\"] )\n",
    "print(f\"Result:\\n {result}\")"
   ]
  },
  {
   "cell_type": "code",
   "execution_count": 19,
   "metadata": {},
   "outputs": [
    {
     "name": "stdout",
     "output_type": "stream",
     "text": [
      "Result without allow_list:\n",
      "[type: URL, start: 23, end: 31, score: 0.85, type: URL, start: 40, end: 53, score: 0.85]\n",
      "\n",
      "Result with allow_list ['bing.com']:\n",
      "[type: URL, start: 40, end: 53, score: 0.85]\n",
      "\n",
      "Text with masked information (without allow_list):\n",
      "My favorite website is <URL>, his is <URL>\n",
      "\n",
      "Text with masked information (with allow_list):\n",
      "My favorite website is bing.com, his is <URL>\n"
     ]
    }
   ],
   "source": [
    "from presidio_anonymizer import AnonymizerEngine\n",
    "\n",
    "# Analyze text using the provided text without allow_list\n",
    "result_without = analyzer.analyze(text=text1, language='en')\n",
    "print(\"Result without allow_list:\")\n",
    "print(result_without)\n",
    "\n",
    "# Analyze text with allow_list set to [\"bing.com\"]\n",
    "result_with_allow = analyzer.analyze(text=text1, language='en', allow_list=[\"bing.com\"])\n",
    "print(\"\\nResult with allow_list ['bing.com']:\")\n",
    "print(result_with_allow)\n",
    "\n",
    "# Create anonymizer instance\n",
    "anonymizer = AnonymizerEngine()\n",
    "\n",
    "# Anonymize text based on results without allow_list\n",
    "anonymized_result_without = anonymizer.anonymize(text=text1, analyzer_results=result_without)\n",
    "print(\"\\nText with masked information (without allow_list):\")\n",
    "print(anonymized_result_without.text)\n",
    "\n",
    "# Anonymize text based on results with allow_list\n",
    "anonymized_result_with = anonymizer.anonymize(text=text1, analyzer_results=result_with_allow)\n",
    "print(\"\\nText with masked information (with allow_list):\")\n",
    "print(anonymized_result_with.text)"
   ]
  },
  {
   "cell_type": "code",
   "execution_count": null,
   "metadata": {},
   "outputs": [],
   "source": []
  }
 ],
 "metadata": {
  "kernelspec": {
   "display_name": "base",
   "language": "python",
   "name": "python3"
  },
  "language_info": {
   "codemirror_mode": {
    "name": "ipython",
    "version": 3
   },
   "file_extension": ".py",
   "mimetype": "text/x-python",
   "name": "python",
   "nbconvert_exporter": "python",
   "pygments_lexer": "ipython3",
   "version": "3.12.2"
  }
 },
 "nbformat": 4,
 "nbformat_minor": 2
}
